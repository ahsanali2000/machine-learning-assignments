{
  "cells": [
    {
      "attachments": {},
      "cell_type": "markdown",
      "id": "bc713cda",
      "metadata": {
        "id": "bc713cda"
      },
      "source": [
        "# Machine Learning - Practical 4 - Deep Learning VS Trees\n",
        "\n",
        "\n",
        "Names:  Rana Ashar Mehmood - Ahsan Ali - Muhammad Talha Abbas\n",
        "Summer Term 2023\n",
        "Due Date: Tuesday, June 13, 2pm"
      ]
    },
    {
      "attachments": {},
      "cell_type": "markdown",
      "id": "0e394c4e",
      "metadata": {
        "id": "0e394c4e"
      },
      "source": [
        "In this practical we are going to use a tabular dataset. We will test two different approaches - forests and neural networks and compare performance. We are also going to learn how to make trees interpretable."
      ]
    },
    {
      "attachments": {},
      "cell_type": "markdown",
      "id": "72933ee7",
      "metadata": {
        "id": "72933ee7"
      },
      "source": [
        "To prepare this tutorial we used [this paper](https://arxiv.org/pdf/2207.08815.pdf) with its [repository](https://github.com/LeoGrin/tabular-benchmark).\n",
        "\n",
        "For explained variance in trees, you can read more [here](https://scikit-learn.org/0.15/auto_examples/ensemble/plot_gradient_boosting_regression.html#example-ensemble-plot-gradient-boosting-regression-py).\n"
      ]
    },
    {
      "attachments": {},
      "cell_type": "markdown",
      "id": "b6652aaa",
      "metadata": {},
      "source": [
        "## Download the dataset from this link https://drive.google.com/file/d/1no2rt94YyQ-UXwt0yhbBrfhbUqER0HmN/view?usp=sharing"
      ]
    },
    {
      "cell_type": "code",
      "execution_count": 39,
      "id": "218de310",
      "metadata": {
        "colab": {
          "base_uri": "https://localhost:8080/"
        },
        "id": "218de310",
        "outputId": "19f8d2c4-48bf-4a0a-ed47-2014ed7df86d",
        "scrolled": false
      },
      "outputs": [
        {
          "data": {
            "text/plain": [
              "<torch._C.Generator at 0x7fd409718050>"
            ]
          },
          "execution_count": 39,
          "metadata": {},
          "output_type": "execute_result"
        }
      ],
      "source": [
        "%matplotlib inline\n",
        "\n",
        "import pandas as pd\n",
        "import seaborn as sns\n",
        "import matplotlib.pyplot as plt\n",
        "import numpy as np\n",
        "import pickle\n",
        "import os\n",
        "\n",
        "from sklearn.model_selection import train_test_split\n",
        "from sklearn.ensemble import GradientBoostingClassifier\n",
        "from sklearn.metrics import recall_score, precision_score, accuracy_score\n",
        "\n",
        "from PIL import Image\n",
        "import torch\n",
        "import torch.nn as nn\n",
        "from torch.utils.data import DataLoader, Dataset, Subset\n",
        "import torchvision.datasets as datasets\n",
        "import torchvision.transforms as transforms\n",
        "from torchvision.utils import make_grid\n",
        "torch.manual_seed(42) # Set manual seed"
      ]
    },
    {
      "cell_type": "code",
      "execution_count": 40,
      "id": "3bb2c837",
      "metadata": {
        "colab": {
          "base_uri": "https://localhost:8080/"
        },
        "id": "3bb2c837",
        "outputId": "f691e098-6d8c-46d0-a5ae-f5d7be719d48"
      },
      "outputs": [
        {
          "name": "stdout",
          "output_type": "stream",
          "text": [
            "Using device cuda:0\n"
          ]
        }
      ],
      "source": [
        "# DO NOT CHANGE\n",
        "use_cuda = True\n",
        "use_cuda = False if not use_cuda else torch.cuda.is_available()\n",
        "device = torch.device('cuda:0' if use_cuda else 'cpu')\n",
        "torch.cuda.get_device_name(device) if use_cuda else 'cpu'\n",
        "print('Using device', device)"
      ]
    },
    {
      "attachments": {},
      "cell_type": "markdown",
      "id": "8e24771e",
      "metadata": {
        "id": "8e24771e"
      },
      "source": [
        "## Load, clean and split the tabular dataset"
      ]
    },
    {
      "attachments": {},
      "cell_type": "markdown",
      "id": "61d9f9e1",
      "metadata": {
        "id": "61d9f9e1"
      },
      "source": [
        "We use the preprocessing pipeline from [Grinsztajn, 2022](https://arxiv.org/pdf/2207.08815.pdf).\n",
        "\n",
        "**No missing data**\n",
        "\n",
        "Remove all rows containing at least one missing entry.\n",
        "\n",
        "*In practice people often do not remove rows with missing values but try to fill missing values in a column with the mean or median values for numerical data and mode or median values for categorical data. Sometimes even simple prediction models are used to fill in the gaps but we will remove rows or columns with missing values for the sake of simplicity*\n",
        "\n",
        "**Balanced classes**\n",
        "\n",
        "For classification, the target is binarised if there are multiple classes, by taking the two most numerous classes, and we keep half of samples in each class.\n",
        "\n",
        "**Low cardinality categorical features**\n",
        "\n",
        "Remove categorical features with more than 20 items.\n",
        "\n",
        "**High cardinality numerical features**\n",
        "\n",
        "Remove numerical features with less than 10 unique values. Convert numerical features with 2 unique values to categorical."
      ]
    },
    {
      "attachments": {},
      "cell_type": "markdown",
      "id": "Gyi3ep5EtiIf",
      "metadata": {
        "id": "Gyi3ep5EtiIf"
      },
      "source": [
        "**Data description:**\n",
        "Data reported to the police about the circumstances of personal injury road accidents in Great Britain from 1979. This version includes data up to 2015. We will try to predict the sex of the driver based on the data provided."
      ]
    },
    {
      "cell_type": "code",
      "execution_count": 41,
      "id": "S79sAaM5s1UL",
      "metadata": {
        "colab": {
          "base_uri": "https://localhost:8080/"
        },
        "id": "S79sAaM5s1UL",
        "outputId": "da4ad4ad-bd1c-425a-be7f-757850cb066a"
      },
      "outputs": [
        {
          "name": "stdout",
          "output_type": "stream",
          "text": [
            "Mounted at /content/gdrive/\n"
          ]
        }
      ],
      "source": [
        "from google.colab import drive\n",
        "\n",
        "drive.mount('/content/gdrive/', force_remount=True)"
      ]
    },
    {
      "cell_type": "code",
      "execution_count": 42,
      "id": "bbc76543",
      "metadata": {
        "id": "bbc76543"
      },
      "outputs": [],
      "source": [
        "## In case you have any issues with loading the pickle file\n",
        "## check that your pandas version is 1.4.1\n",
        "## or just simply run:\n",
        "## pip install pandas==1.4.1\n",
        "\n",
        "with open('/content/gdrive/MyDrive/ML4file/adopted_road_safety.pkl', 'rb') as f:\n",
        "    dataset = pickle.load(f)"
      ]
    },
    {
      "cell_type": "code",
      "execution_count": 43,
      "id": "288e7151",
      "metadata": {
        "colab": {
          "base_uri": "https://localhost:8080/",
          "height": 505
        },
        "id": "288e7151",
        "outputId": "f95edd14-391a-495e-9d9f-d1802ef1cd92"
      },
      "outputs": [
        {
          "data": {
            "text/html": [
              "\n",
              "  <div id=\"df-8884feca-243e-4b61-adc6-91d5d9e1745f\">\n",
              "    <div class=\"colab-df-container\">\n",
              "      <div>\n",
              "<style scoped>\n",
              "    .dataframe tbody tr th:only-of-type {\n",
              "        vertical-align: middle;\n",
              "    }\n",
              "\n",
              "    .dataframe tbody tr th {\n",
              "        vertical-align: top;\n",
              "    }\n",
              "\n",
              "    .dataframe thead th {\n",
              "        text-align: right;\n",
              "    }\n",
              "</style>\n",
              "<table border=\"1\" class=\"dataframe\">\n",
              "  <thead>\n",
              "    <tr style=\"text-align: right;\">\n",
              "      <th></th>\n",
              "      <th>Accident_Index</th>\n",
              "      <th>Vehicle_Reference_df_res</th>\n",
              "      <th>Vehicle_Type</th>\n",
              "      <th>Towing_and_Articulation</th>\n",
              "      <th>Vehicle_Manoeuvre</th>\n",
              "      <th>Vehicle_Location-Restricted_Lane</th>\n",
              "      <th>Junction_Location</th>\n",
              "      <th>Skidding_and_Overturning</th>\n",
              "      <th>Hit_Object_in_Carriageway</th>\n",
              "      <th>Vehicle_Leaving_Carriageway</th>\n",
              "      <th>...</th>\n",
              "      <th>Age_Band_of_Casualty</th>\n",
              "      <th>Casualty_Severity</th>\n",
              "      <th>Pedestrian_Location</th>\n",
              "      <th>Pedestrian_Movement</th>\n",
              "      <th>Car_Passenger</th>\n",
              "      <th>Bus_or_Coach_Passenger</th>\n",
              "      <th>Pedestrian_Road_Maintenance_Worker</th>\n",
              "      <th>Casualty_Type</th>\n",
              "      <th>Casualty_Home_Area_Type</th>\n",
              "      <th>Casualty_IMD_Decile</th>\n",
              "    </tr>\n",
              "  </thead>\n",
              "  <tbody>\n",
              "    <tr>\n",
              "      <th>0</th>\n",
              "      <td>201501BS70001</td>\n",
              "      <td>1</td>\n",
              "      <td>19.0</td>\n",
              "      <td>0.0</td>\n",
              "      <td>9.0</td>\n",
              "      <td>0.0</td>\n",
              "      <td>8.0</td>\n",
              "      <td>0.0</td>\n",
              "      <td>0.0</td>\n",
              "      <td>0.0</td>\n",
              "      <td>...</td>\n",
              "      <td>7.0</td>\n",
              "      <td>3</td>\n",
              "      <td>5.0</td>\n",
              "      <td>1.0</td>\n",
              "      <td>0.0</td>\n",
              "      <td>0.0</td>\n",
              "      <td>2.0</td>\n",
              "      <td>0</td>\n",
              "      <td>NaN</td>\n",
              "      <td>NaN</td>\n",
              "    </tr>\n",
              "    <tr>\n",
              "      <th>1</th>\n",
              "      <td>201501BS70002</td>\n",
              "      <td>1</td>\n",
              "      <td>9.0</td>\n",
              "      <td>0.0</td>\n",
              "      <td>9.0</td>\n",
              "      <td>0.0</td>\n",
              "      <td>8.0</td>\n",
              "      <td>0.0</td>\n",
              "      <td>0.0</td>\n",
              "      <td>0.0</td>\n",
              "      <td>...</td>\n",
              "      <td>5.0</td>\n",
              "      <td>3</td>\n",
              "      <td>9.0</td>\n",
              "      <td>9.0</td>\n",
              "      <td>0.0</td>\n",
              "      <td>0.0</td>\n",
              "      <td>2.0</td>\n",
              "      <td>0</td>\n",
              "      <td>1.0</td>\n",
              "      <td>3.0</td>\n",
              "    </tr>\n",
              "    <tr>\n",
              "      <th>2</th>\n",
              "      <td>201501BS70004</td>\n",
              "      <td>1</td>\n",
              "      <td>9.0</td>\n",
              "      <td>0.0</td>\n",
              "      <td>9.0</td>\n",
              "      <td>0.0</td>\n",
              "      <td>2.0</td>\n",
              "      <td>0.0</td>\n",
              "      <td>0.0</td>\n",
              "      <td>0.0</td>\n",
              "      <td>...</td>\n",
              "      <td>6.0</td>\n",
              "      <td>3</td>\n",
              "      <td>1.0</td>\n",
              "      <td>3.0</td>\n",
              "      <td>0.0</td>\n",
              "      <td>0.0</td>\n",
              "      <td>2.0</td>\n",
              "      <td>0</td>\n",
              "      <td>1.0</td>\n",
              "      <td>6.0</td>\n",
              "    </tr>\n",
              "    <tr>\n",
              "      <th>3</th>\n",
              "      <td>201501BS70005</td>\n",
              "      <td>1</td>\n",
              "      <td>9.0</td>\n",
              "      <td>0.0</td>\n",
              "      <td>9.0</td>\n",
              "      <td>0.0</td>\n",
              "      <td>2.0</td>\n",
              "      <td>0.0</td>\n",
              "      <td>0.0</td>\n",
              "      <td>0.0</td>\n",
              "      <td>...</td>\n",
              "      <td>2.0</td>\n",
              "      <td>3</td>\n",
              "      <td>5.0</td>\n",
              "      <td>1.0</td>\n",
              "      <td>0.0</td>\n",
              "      <td>0.0</td>\n",
              "      <td>2.0</td>\n",
              "      <td>0</td>\n",
              "      <td>1.0</td>\n",
              "      <td>2.0</td>\n",
              "    </tr>\n",
              "    <tr>\n",
              "      <th>4</th>\n",
              "      <td>201501BS70008</td>\n",
              "      <td>1</td>\n",
              "      <td>1.0</td>\n",
              "      <td>0.0</td>\n",
              "      <td>18.0</td>\n",
              "      <td>0.0</td>\n",
              "      <td>8.0</td>\n",
              "      <td>0.0</td>\n",
              "      <td>0.0</td>\n",
              "      <td>0.0</td>\n",
              "      <td>...</td>\n",
              "      <td>8.0</td>\n",
              "      <td>2</td>\n",
              "      <td>0.0</td>\n",
              "      <td>0.0</td>\n",
              "      <td>0.0</td>\n",
              "      <td>0.0</td>\n",
              "      <td>0.0</td>\n",
              "      <td>1</td>\n",
              "      <td>1.0</td>\n",
              "      <td>3.0</td>\n",
              "    </tr>\n",
              "    <tr>\n",
              "      <th>...</th>\n",
              "      <td>...</td>\n",
              "      <td>...</td>\n",
              "      <td>...</td>\n",
              "      <td>...</td>\n",
              "      <td>...</td>\n",
              "      <td>...</td>\n",
              "      <td>...</td>\n",
              "      <td>...</td>\n",
              "      <td>...</td>\n",
              "      <td>...</td>\n",
              "      <td>...</td>\n",
              "      <td>...</td>\n",
              "      <td>...</td>\n",
              "      <td>...</td>\n",
              "      <td>...</td>\n",
              "      <td>...</td>\n",
              "      <td>...</td>\n",
              "      <td>...</td>\n",
              "      <td>...</td>\n",
              "      <td>...</td>\n",
              "      <td>...</td>\n",
              "    </tr>\n",
              "    <tr>\n",
              "      <th>363238</th>\n",
              "      <td>2015984141415</td>\n",
              "      <td>13</td>\n",
              "      <td>9.0</td>\n",
              "      <td>0.0</td>\n",
              "      <td>18.0</td>\n",
              "      <td>0.0</td>\n",
              "      <td>0.0</td>\n",
              "      <td>0.0</td>\n",
              "      <td>0.0</td>\n",
              "      <td>5.0</td>\n",
              "      <td>...</td>\n",
              "      <td>1.0</td>\n",
              "      <td>3</td>\n",
              "      <td>0.0</td>\n",
              "      <td>0.0</td>\n",
              "      <td>2.0</td>\n",
              "      <td>0.0</td>\n",
              "      <td>0.0</td>\n",
              "      <td>9</td>\n",
              "      <td>1.0</td>\n",
              "      <td>NaN</td>\n",
              "    </tr>\n",
              "    <tr>\n",
              "      <th>363239</th>\n",
              "      <td>2015984141415</td>\n",
              "      <td>13</td>\n",
              "      <td>9.0</td>\n",
              "      <td>0.0</td>\n",
              "      <td>18.0</td>\n",
              "      <td>0.0</td>\n",
              "      <td>0.0</td>\n",
              "      <td>0.0</td>\n",
              "      <td>0.0</td>\n",
              "      <td>5.0</td>\n",
              "      <td>...</td>\n",
              "      <td>5.0</td>\n",
              "      <td>3</td>\n",
              "      <td>0.0</td>\n",
              "      <td>0.0</td>\n",
              "      <td>0.0</td>\n",
              "      <td>0.0</td>\n",
              "      <td>0.0</td>\n",
              "      <td>9</td>\n",
              "      <td>1.0</td>\n",
              "      <td>2.0</td>\n",
              "    </tr>\n",
              "    <tr>\n",
              "      <th>363240</th>\n",
              "      <td>2015984141415</td>\n",
              "      <td>13</td>\n",
              "      <td>9.0</td>\n",
              "      <td>0.0</td>\n",
              "      <td>18.0</td>\n",
              "      <td>0.0</td>\n",
              "      <td>0.0</td>\n",
              "      <td>0.0</td>\n",
              "      <td>0.0</td>\n",
              "      <td>5.0</td>\n",
              "      <td>...</td>\n",
              "      <td>4.0</td>\n",
              "      <td>3</td>\n",
              "      <td>0.0</td>\n",
              "      <td>0.0</td>\n",
              "      <td>0.0</td>\n",
              "      <td>0.0</td>\n",
              "      <td>0.0</td>\n",
              "      <td>9</td>\n",
              "      <td>2.0</td>\n",
              "      <td>5.0</td>\n",
              "    </tr>\n",
              "    <tr>\n",
              "      <th>363241</th>\n",
              "      <td>2015984141415</td>\n",
              "      <td>13</td>\n",
              "      <td>9.0</td>\n",
              "      <td>0.0</td>\n",
              "      <td>18.0</td>\n",
              "      <td>0.0</td>\n",
              "      <td>0.0</td>\n",
              "      <td>0.0</td>\n",
              "      <td>0.0</td>\n",
              "      <td>5.0</td>\n",
              "      <td>...</td>\n",
              "      <td>6.0</td>\n",
              "      <td>3</td>\n",
              "      <td>0.0</td>\n",
              "      <td>0.0</td>\n",
              "      <td>0.0</td>\n",
              "      <td>0.0</td>\n",
              "      <td>0.0</td>\n",
              "      <td>9</td>\n",
              "      <td>3.0</td>\n",
              "      <td>NaN</td>\n",
              "    </tr>\n",
              "    <tr>\n",
              "      <th>363242</th>\n",
              "      <td>2015984141415</td>\n",
              "      <td>13</td>\n",
              "      <td>9.0</td>\n",
              "      <td>0.0</td>\n",
              "      <td>18.0</td>\n",
              "      <td>0.0</td>\n",
              "      <td>0.0</td>\n",
              "      <td>0.0</td>\n",
              "      <td>0.0</td>\n",
              "      <td>5.0</td>\n",
              "      <td>...</td>\n",
              "      <td>4.0</td>\n",
              "      <td>3</td>\n",
              "      <td>0.0</td>\n",
              "      <td>0.0</td>\n",
              "      <td>0.0</td>\n",
              "      <td>0.0</td>\n",
              "      <td>0.0</td>\n",
              "      <td>9</td>\n",
              "      <td>1.0</td>\n",
              "      <td>4.0</td>\n",
              "    </tr>\n",
              "  </tbody>\n",
              "</table>\n",
              "<p>363243 rows × 67 columns</p>\n",
              "</div>\n",
              "      <button class=\"colab-df-convert\" onclick=\"convertToInteractive('df-8884feca-243e-4b61-adc6-91d5d9e1745f')\"\n",
              "              title=\"Convert this dataframe to an interactive table.\"\n",
              "              style=\"display:none;\">\n",
              "        \n",
              "  <svg xmlns=\"http://www.w3.org/2000/svg\" height=\"24px\"viewBox=\"0 0 24 24\"\n",
              "       width=\"24px\">\n",
              "    <path d=\"M0 0h24v24H0V0z\" fill=\"none\"/>\n",
              "    <path d=\"M18.56 5.44l.94 2.06.94-2.06 2.06-.94-2.06-.94-.94-2.06-.94 2.06-2.06.94zm-11 1L8.5 8.5l.94-2.06 2.06-.94-2.06-.94L8.5 2.5l-.94 2.06-2.06.94zm10 10l.94 2.06.94-2.06 2.06-.94-2.06-.94-.94-2.06-.94 2.06-2.06.94z\"/><path d=\"M17.41 7.96l-1.37-1.37c-.4-.4-.92-.59-1.43-.59-.52 0-1.04.2-1.43.59L10.3 9.45l-7.72 7.72c-.78.78-.78 2.05 0 2.83L4 21.41c.39.39.9.59 1.41.59.51 0 1.02-.2 1.41-.59l7.78-7.78 2.81-2.81c.8-.78.8-2.07 0-2.86zM5.41 20L4 18.59l7.72-7.72 1.47 1.35L5.41 20z\"/>\n",
              "  </svg>\n",
              "      </button>\n",
              "      \n",
              "  <style>\n",
              "    .colab-df-container {\n",
              "      display:flex;\n",
              "      flex-wrap:wrap;\n",
              "      gap: 12px;\n",
              "    }\n",
              "\n",
              "    .colab-df-convert {\n",
              "      background-color: #E8F0FE;\n",
              "      border: none;\n",
              "      border-radius: 50%;\n",
              "      cursor: pointer;\n",
              "      display: none;\n",
              "      fill: #1967D2;\n",
              "      height: 32px;\n",
              "      padding: 0 0 0 0;\n",
              "      width: 32px;\n",
              "    }\n",
              "\n",
              "    .colab-df-convert:hover {\n",
              "      background-color: #E2EBFA;\n",
              "      box-shadow: 0px 1px 2px rgba(60, 64, 67, 0.3), 0px 1px 3px 1px rgba(60, 64, 67, 0.15);\n",
              "      fill: #174EA6;\n",
              "    }\n",
              "\n",
              "    [theme=dark] .colab-df-convert {\n",
              "      background-color: #3B4455;\n",
              "      fill: #D2E3FC;\n",
              "    }\n",
              "\n",
              "    [theme=dark] .colab-df-convert:hover {\n",
              "      background-color: #434B5C;\n",
              "      box-shadow: 0px 1px 3px 1px rgba(0, 0, 0, 0.15);\n",
              "      filter: drop-shadow(0px 1px 2px rgba(0, 0, 0, 0.3));\n",
              "      fill: #FFFFFF;\n",
              "    }\n",
              "  </style>\n",
              "\n",
              "      <script>\n",
              "        const buttonEl =\n",
              "          document.querySelector('#df-8884feca-243e-4b61-adc6-91d5d9e1745f button.colab-df-convert');\n",
              "        buttonEl.style.display =\n",
              "          google.colab.kernel.accessAllowed ? 'block' : 'none';\n",
              "\n",
              "        async function convertToInteractive(key) {\n",
              "          const element = document.querySelector('#df-8884feca-243e-4b61-adc6-91d5d9e1745f');\n",
              "          const dataTable =\n",
              "            await google.colab.kernel.invokeFunction('convertToInteractive',\n",
              "                                                     [key], {});\n",
              "          if (!dataTable) return;\n",
              "\n",
              "          const docLinkHtml = 'Like what you see? Visit the ' +\n",
              "            '<a target=\"_blank\" href=https://colab.research.google.com/notebooks/data_table.ipynb>data table notebook</a>'\n",
              "            + ' to learn more about interactive tables.';\n",
              "          element.innerHTML = '';\n",
              "          dataTable['output_type'] = 'display_data';\n",
              "          await google.colab.output.renderOutput(dataTable, element);\n",
              "          const docLink = document.createElement('div');\n",
              "          docLink.innerHTML = docLinkHtml;\n",
              "          element.appendChild(docLink);\n",
              "        }\n",
              "      </script>\n",
              "    </div>\n",
              "  </div>\n",
              "  "
            ],
            "text/plain": [
              "       Accident_Index  Vehicle_Reference_df_res  Vehicle_Type  \\\n",
              "0       201501BS70001                         1          19.0   \n",
              "1       201501BS70002                         1           9.0   \n",
              "2       201501BS70004                         1           9.0   \n",
              "3       201501BS70005                         1           9.0   \n",
              "4       201501BS70008                         1           1.0   \n",
              "...               ...                       ...           ...   \n",
              "363238  2015984141415                        13           9.0   \n",
              "363239  2015984141415                        13           9.0   \n",
              "363240  2015984141415                        13           9.0   \n",
              "363241  2015984141415                        13           9.0   \n",
              "363242  2015984141415                        13           9.0   \n",
              "\n",
              "        Towing_and_Articulation  Vehicle_Manoeuvre  \\\n",
              "0                           0.0                9.0   \n",
              "1                           0.0                9.0   \n",
              "2                           0.0                9.0   \n",
              "3                           0.0                9.0   \n",
              "4                           0.0               18.0   \n",
              "...                         ...                ...   \n",
              "363238                      0.0               18.0   \n",
              "363239                      0.0               18.0   \n",
              "363240                      0.0               18.0   \n",
              "363241                      0.0               18.0   \n",
              "363242                      0.0               18.0   \n",
              "\n",
              "        Vehicle_Location-Restricted_Lane  Junction_Location  \\\n",
              "0                                    0.0                8.0   \n",
              "1                                    0.0                8.0   \n",
              "2                                    0.0                2.0   \n",
              "3                                    0.0                2.0   \n",
              "4                                    0.0                8.0   \n",
              "...                                  ...                ...   \n",
              "363238                               0.0                0.0   \n",
              "363239                               0.0                0.0   \n",
              "363240                               0.0                0.0   \n",
              "363241                               0.0                0.0   \n",
              "363242                               0.0                0.0   \n",
              "\n",
              "        Skidding_and_Overturning  Hit_Object_in_Carriageway  \\\n",
              "0                            0.0                        0.0   \n",
              "1                            0.0                        0.0   \n",
              "2                            0.0                        0.0   \n",
              "3                            0.0                        0.0   \n",
              "4                            0.0                        0.0   \n",
              "...                          ...                        ...   \n",
              "363238                       0.0                        0.0   \n",
              "363239                       0.0                        0.0   \n",
              "363240                       0.0                        0.0   \n",
              "363241                       0.0                        0.0   \n",
              "363242                       0.0                        0.0   \n",
              "\n",
              "        Vehicle_Leaving_Carriageway  ...  Age_Band_of_Casualty  \\\n",
              "0                               0.0  ...                   7.0   \n",
              "1                               0.0  ...                   5.0   \n",
              "2                               0.0  ...                   6.0   \n",
              "3                               0.0  ...                   2.0   \n",
              "4                               0.0  ...                   8.0   \n",
              "...                             ...  ...                   ...   \n",
              "363238                          5.0  ...                   1.0   \n",
              "363239                          5.0  ...                   5.0   \n",
              "363240                          5.0  ...                   4.0   \n",
              "363241                          5.0  ...                   6.0   \n",
              "363242                          5.0  ...                   4.0   \n",
              "\n",
              "        Casualty_Severity  Pedestrian_Location  Pedestrian_Movement  \\\n",
              "0                       3                  5.0                  1.0   \n",
              "1                       3                  9.0                  9.0   \n",
              "2                       3                  1.0                  3.0   \n",
              "3                       3                  5.0                  1.0   \n",
              "4                       2                  0.0                  0.0   \n",
              "...                   ...                  ...                  ...   \n",
              "363238                  3                  0.0                  0.0   \n",
              "363239                  3                  0.0                  0.0   \n",
              "363240                  3                  0.0                  0.0   \n",
              "363241                  3                  0.0                  0.0   \n",
              "363242                  3                  0.0                  0.0   \n",
              "\n",
              "       Car_Passenger  Bus_or_Coach_Passenger  \\\n",
              "0                0.0                     0.0   \n",
              "1                0.0                     0.0   \n",
              "2                0.0                     0.0   \n",
              "3                0.0                     0.0   \n",
              "4                0.0                     0.0   \n",
              "...              ...                     ...   \n",
              "363238           2.0                     0.0   \n",
              "363239           0.0                     0.0   \n",
              "363240           0.0                     0.0   \n",
              "363241           0.0                     0.0   \n",
              "363242           0.0                     0.0   \n",
              "\n",
              "        Pedestrian_Road_Maintenance_Worker  Casualty_Type  \\\n",
              "0                                      2.0              0   \n",
              "1                                      2.0              0   \n",
              "2                                      2.0              0   \n",
              "3                                      2.0              0   \n",
              "4                                      0.0              1   \n",
              "...                                    ...            ...   \n",
              "363238                                 0.0              9   \n",
              "363239                                 0.0              9   \n",
              "363240                                 0.0              9   \n",
              "363241                                 0.0              9   \n",
              "363242                                 0.0              9   \n",
              "\n",
              "        Casualty_Home_Area_Type  Casualty_IMD_Decile  \n",
              "0                           NaN                  NaN  \n",
              "1                           1.0                  3.0  \n",
              "2                           1.0                  6.0  \n",
              "3                           1.0                  2.0  \n",
              "4                           1.0                  3.0  \n",
              "...                         ...                  ...  \n",
              "363238                      1.0                  NaN  \n",
              "363239                      1.0                  2.0  \n",
              "363240                      2.0                  5.0  \n",
              "363241                      3.0                  NaN  \n",
              "363242                      1.0                  4.0  \n",
              "\n",
              "[363243 rows x 67 columns]"
            ]
          },
          "execution_count": 43,
          "metadata": {},
          "output_type": "execute_result"
        }
      ],
      "source": [
        "dataset"
      ]
    },
    {
      "cell_type": "code",
      "execution_count": 44,
      "id": "fAWW5kChD6MU",
      "metadata": {
        "id": "fAWW5kChD6MU"
      },
      "outputs": [],
      "source": [
        "target_column = 'Sex_of_Driver'\n",
        "test_size = 0.2\n",
        "random_state = 42"
      ]
    },
    {
      "cell_type": "code",
      "execution_count": 45,
      "id": "3d77435f",
      "metadata": {
        "id": "3d77435f"
      },
      "outputs": [],
      "source": [
        "def remove_nans(df):\n",
        "    '''\n",
        "    this fucntion removes rows with nans\n",
        "    '''\n",
        "    # TODO\n",
        "    df.dropna(inplace= True)\n",
        "    return df\n",
        "\n",
        "\n",
        "def numerical_to_categorical(df, n=2, ignore=[target_column]):\n",
        "    '''\n",
        "    change the type of the column to categorical\n",
        "    if it has <= n unique values\n",
        "    '''\n",
        "    # TODO\n",
        "    for column in df.columns:\n",
        "        if column not in ignore and df[column].nunique() <= n:\n",
        "            df[column] = df[column].astype('category')\n",
        "\n",
        "    return df\n",
        "\n",
        "\n",
        "def remove_columns_by_n(df, n=10, condition=np.number, direction='less',\n",
        "                        ignore=[target_column]):\n",
        "    '''\n",
        "    Remove columns with more or less than n unique values.\n",
        "    Usually it makes sense to apply this function to columns with categorical values (see below where it is called).\n",
        "    With the default values we remove all numerical columns which have less than 10 unique values (except for the target_column).\n",
        "    '''\n",
        "\n",
        "    filtered_columns = []\n",
        "    for column in df.columns:\n",
        "        if column in ignore:\n",
        "            continue\n",
        "        if df[column].dtype == condition:\n",
        "          if direction == 'less' and df[column].nunique() < n:\n",
        "              filtered_columns.append(column)\n",
        "          elif direction == 'more' and df[column].nunique() > n:\n",
        "              filtered_columns.append(column)\n",
        "\n",
        "    df_filtered = df.drop(columns=filtered_columns)\n",
        "    return df_filtered\n"
      ]
    },
    {
      "cell_type": "code",
      "execution_count": 46,
      "id": "9033619f",
      "metadata": {
        "colab": {
          "base_uri": "https://localhost:8080/"
        },
        "id": "9033619f",
        "outputId": "ae374d71-2743-4b39-d9c6-6449157d9e97"
      },
      "outputs": [
        {
          "name": "stderr",
          "output_type": "stream",
          "text": [
            "<ipython-input-45-3c72bd25f13c>:35: DeprecationWarning: Converting `np.inexact` or `np.floating` to a dtype is deprecated. The current result is `float64` which is not strictly correct.\n",
            "  if df[column].dtype == condition:\n"
          ]
        }
      ],
      "source": [
        "df = dataset\n",
        "df = remove_nans(df)\n",
        "df = numerical_to_categorical(df, n=2, ignore=[target_column])\n",
        "df = remove_columns_by_n(df, n=10, condition=np.number, direction='less',\n",
        "                         ignore=[target_column])\n",
        "df = remove_columns_by_n(df, n=40, condition='category', direction='more',\n",
        "                         ignore=[target_column])\n",
        "\n",
        "assert not df.isna().any().any(), 'There are still nans in the dataframe'"
      ]
    },
    {
      "cell_type": "code",
      "execution_count": 47,
      "id": "hZl0FoamSpyz",
      "metadata": {
        "colab": {
          "base_uri": "https://localhost:8080/",
          "height": 505
        },
        "id": "hZl0FoamSpyz",
        "outputId": "50135e26-769f-4099-8515-0b2033ef91b8"
      },
      "outputs": [
        {
          "data": {
            "text/html": [
              "\n",
              "  <div id=\"df-bba403ca-f223-4ad8-bb46-7dab0f3216f4\">\n",
              "    <div class=\"colab-df-container\">\n",
              "      <div>\n",
              "<style scoped>\n",
              "    .dataframe tbody tr th:only-of-type {\n",
              "        vertical-align: middle;\n",
              "    }\n",
              "\n",
              "    .dataframe tbody tr th {\n",
              "        vertical-align: top;\n",
              "    }\n",
              "\n",
              "    .dataframe thead th {\n",
              "        text-align: right;\n",
              "    }\n",
              "</style>\n",
              "<table border=\"1\" class=\"dataframe\">\n",
              "  <thead>\n",
              "    <tr style=\"text-align: right;\">\n",
              "      <th></th>\n",
              "      <th>Vehicle_Reference_df_res</th>\n",
              "      <th>Vehicle_Type</th>\n",
              "      <th>Vehicle_Manoeuvre</th>\n",
              "      <th>Vehicle_Location-Restricted_Lane</th>\n",
              "      <th>Hit_Object_in_Carriageway</th>\n",
              "      <th>Hit_Object_off_Carriageway</th>\n",
              "      <th>Was_Vehicle_Left_Hand_Drive?</th>\n",
              "      <th>Sex_of_Driver</th>\n",
              "      <th>Age_of_Driver</th>\n",
              "      <th>Age_Band_of_Driver</th>\n",
              "      <th>...</th>\n",
              "      <th>Casualty_Reference</th>\n",
              "      <th>Casualty_Class</th>\n",
              "      <th>Sex_of_Casualty</th>\n",
              "      <th>Age_of_Casualty</th>\n",
              "      <th>Age_Band_of_Casualty</th>\n",
              "      <th>Casualty_Severity</th>\n",
              "      <th>Pedestrian_Location</th>\n",
              "      <th>Pedestrian_Movement</th>\n",
              "      <th>Casualty_Type</th>\n",
              "      <th>Casualty_IMD_Decile</th>\n",
              "    </tr>\n",
              "  </thead>\n",
              "  <tbody>\n",
              "    <tr>\n",
              "      <th>2</th>\n",
              "      <td>1</td>\n",
              "      <td>9.0</td>\n",
              "      <td>9.0</td>\n",
              "      <td>0.0</td>\n",
              "      <td>0.0</td>\n",
              "      <td>0.0</td>\n",
              "      <td>1.0</td>\n",
              "      <td>1.0</td>\n",
              "      <td>30.0</td>\n",
              "      <td>6.0</td>\n",
              "      <td>...</td>\n",
              "      <td>1</td>\n",
              "      <td>3</td>\n",
              "      <td>2.0</td>\n",
              "      <td>33.0</td>\n",
              "      <td>6.0</td>\n",
              "      <td>3</td>\n",
              "      <td>1.0</td>\n",
              "      <td>3.0</td>\n",
              "      <td>0</td>\n",
              "      <td>6.0</td>\n",
              "    </tr>\n",
              "    <tr>\n",
              "      <th>6</th>\n",
              "      <td>1</td>\n",
              "      <td>3.0</td>\n",
              "      <td>18.0</td>\n",
              "      <td>0.0</td>\n",
              "      <td>0.0</td>\n",
              "      <td>0.0</td>\n",
              "      <td>1.0</td>\n",
              "      <td>1.0</td>\n",
              "      <td>37.0</td>\n",
              "      <td>7.0</td>\n",
              "      <td>...</td>\n",
              "      <td>1</td>\n",
              "      <td>1</td>\n",
              "      <td>1.0</td>\n",
              "      <td>37.0</td>\n",
              "      <td>7.0</td>\n",
              "      <td>3</td>\n",
              "      <td>0.0</td>\n",
              "      <td>0.0</td>\n",
              "      <td>3</td>\n",
              "      <td>5.0</td>\n",
              "    </tr>\n",
              "    <tr>\n",
              "      <th>7</th>\n",
              "      <td>2</td>\n",
              "      <td>19.0</td>\n",
              "      <td>6.0</td>\n",
              "      <td>0.0</td>\n",
              "      <td>0.0</td>\n",
              "      <td>0.0</td>\n",
              "      <td>1.0</td>\n",
              "      <td>1.0</td>\n",
              "      <td>44.0</td>\n",
              "      <td>7.0</td>\n",
              "      <td>...</td>\n",
              "      <td>1</td>\n",
              "      <td>1</td>\n",
              "      <td>1.0</td>\n",
              "      <td>37.0</td>\n",
              "      <td>7.0</td>\n",
              "      <td>3</td>\n",
              "      <td>0.0</td>\n",
              "      <td>0.0</td>\n",
              "      <td>3</td>\n",
              "      <td>5.0</td>\n",
              "    </tr>\n",
              "    <tr>\n",
              "      <th>8</th>\n",
              "      <td>1</td>\n",
              "      <td>9.0</td>\n",
              "      <td>9.0</td>\n",
              "      <td>0.0</td>\n",
              "      <td>0.0</td>\n",
              "      <td>0.0</td>\n",
              "      <td>1.0</td>\n",
              "      <td>1.0</td>\n",
              "      <td>37.0</td>\n",
              "      <td>7.0</td>\n",
              "      <td>...</td>\n",
              "      <td>1</td>\n",
              "      <td>1</td>\n",
              "      <td>1.0</td>\n",
              "      <td>37.0</td>\n",
              "      <td>7.0</td>\n",
              "      <td>3</td>\n",
              "      <td>0.0</td>\n",
              "      <td>0.0</td>\n",
              "      <td>1</td>\n",
              "      <td>8.0</td>\n",
              "    </tr>\n",
              "    <tr>\n",
              "      <th>12</th>\n",
              "      <td>1</td>\n",
              "      <td>9.0</td>\n",
              "      <td>13.0</td>\n",
              "      <td>0.0</td>\n",
              "      <td>0.0</td>\n",
              "      <td>0.0</td>\n",
              "      <td>1.0</td>\n",
              "      <td>2.0</td>\n",
              "      <td>39.0</td>\n",
              "      <td>7.0</td>\n",
              "      <td>...</td>\n",
              "      <td>1</td>\n",
              "      <td>1</td>\n",
              "      <td>1.0</td>\n",
              "      <td>61.0</td>\n",
              "      <td>9.0</td>\n",
              "      <td>3</td>\n",
              "      <td>0.0</td>\n",
              "      <td>0.0</td>\n",
              "      <td>5</td>\n",
              "      <td>2.0</td>\n",
              "    </tr>\n",
              "    <tr>\n",
              "      <th>...</th>\n",
              "      <td>...</td>\n",
              "      <td>...</td>\n",
              "      <td>...</td>\n",
              "      <td>...</td>\n",
              "      <td>...</td>\n",
              "      <td>...</td>\n",
              "      <td>...</td>\n",
              "      <td>...</td>\n",
              "      <td>...</td>\n",
              "      <td>...</td>\n",
              "      <td>...</td>\n",
              "      <td>...</td>\n",
              "      <td>...</td>\n",
              "      <td>...</td>\n",
              "      <td>...</td>\n",
              "      <td>...</td>\n",
              "      <td>...</td>\n",
              "      <td>...</td>\n",
              "      <td>...</td>\n",
              "      <td>...</td>\n",
              "      <td>...</td>\n",
              "    </tr>\n",
              "    <tr>\n",
              "      <th>328127</th>\n",
              "      <td>1</td>\n",
              "      <td>9.0</td>\n",
              "      <td>5.0</td>\n",
              "      <td>0.0</td>\n",
              "      <td>0.0</td>\n",
              "      <td>0.0</td>\n",
              "      <td>1.0</td>\n",
              "      <td>2.0</td>\n",
              "      <td>75.0</td>\n",
              "      <td>10.0</td>\n",
              "      <td>...</td>\n",
              "      <td>2</td>\n",
              "      <td>1</td>\n",
              "      <td>2.0</td>\n",
              "      <td>43.0</td>\n",
              "      <td>7.0</td>\n",
              "      <td>3</td>\n",
              "      <td>0.0</td>\n",
              "      <td>0.0</td>\n",
              "      <td>9</td>\n",
              "      <td>6.0</td>\n",
              "    </tr>\n",
              "    <tr>\n",
              "      <th>328128</th>\n",
              "      <td>2</td>\n",
              "      <td>9.0</td>\n",
              "      <td>18.0</td>\n",
              "      <td>0.0</td>\n",
              "      <td>0.0</td>\n",
              "      <td>0.0</td>\n",
              "      <td>1.0</td>\n",
              "      <td>1.0</td>\n",
              "      <td>18.0</td>\n",
              "      <td>4.0</td>\n",
              "      <td>...</td>\n",
              "      <td>1</td>\n",
              "      <td>1</td>\n",
              "      <td>1.0</td>\n",
              "      <td>18.0</td>\n",
              "      <td>4.0</td>\n",
              "      <td>3</td>\n",
              "      <td>0.0</td>\n",
              "      <td>0.0</td>\n",
              "      <td>9</td>\n",
              "      <td>10.0</td>\n",
              "    </tr>\n",
              "    <tr>\n",
              "      <th>328129</th>\n",
              "      <td>2</td>\n",
              "      <td>9.0</td>\n",
              "      <td>18.0</td>\n",
              "      <td>0.0</td>\n",
              "      <td>0.0</td>\n",
              "      <td>0.0</td>\n",
              "      <td>1.0</td>\n",
              "      <td>1.0</td>\n",
              "      <td>18.0</td>\n",
              "      <td>4.0</td>\n",
              "      <td>...</td>\n",
              "      <td>2</td>\n",
              "      <td>1</td>\n",
              "      <td>2.0</td>\n",
              "      <td>43.0</td>\n",
              "      <td>7.0</td>\n",
              "      <td>3</td>\n",
              "      <td>0.0</td>\n",
              "      <td>0.0</td>\n",
              "      <td>9</td>\n",
              "      <td>6.0</td>\n",
              "    </tr>\n",
              "    <tr>\n",
              "      <th>328130</th>\n",
              "      <td>3</td>\n",
              "      <td>9.0</td>\n",
              "      <td>3.0</td>\n",
              "      <td>0.0</td>\n",
              "      <td>0.0</td>\n",
              "      <td>0.0</td>\n",
              "      <td>1.0</td>\n",
              "      <td>2.0</td>\n",
              "      <td>43.0</td>\n",
              "      <td>7.0</td>\n",
              "      <td>...</td>\n",
              "      <td>1</td>\n",
              "      <td>1</td>\n",
              "      <td>1.0</td>\n",
              "      <td>18.0</td>\n",
              "      <td>4.0</td>\n",
              "      <td>3</td>\n",
              "      <td>0.0</td>\n",
              "      <td>0.0</td>\n",
              "      <td>9</td>\n",
              "      <td>10.0</td>\n",
              "    </tr>\n",
              "    <tr>\n",
              "      <th>328131</th>\n",
              "      <td>3</td>\n",
              "      <td>9.0</td>\n",
              "      <td>3.0</td>\n",
              "      <td>0.0</td>\n",
              "      <td>0.0</td>\n",
              "      <td>0.0</td>\n",
              "      <td>1.0</td>\n",
              "      <td>2.0</td>\n",
              "      <td>43.0</td>\n",
              "      <td>7.0</td>\n",
              "      <td>...</td>\n",
              "      <td>2</td>\n",
              "      <td>1</td>\n",
              "      <td>2.0</td>\n",
              "      <td>43.0</td>\n",
              "      <td>7.0</td>\n",
              "      <td>3</td>\n",
              "      <td>0.0</td>\n",
              "      <td>0.0</td>\n",
              "      <td>9</td>\n",
              "      <td>6.0</td>\n",
              "    </tr>\n",
              "  </tbody>\n",
              "</table>\n",
              "<p>96326 rows × 33 columns</p>\n",
              "</div>\n",
              "      <button class=\"colab-df-convert\" onclick=\"convertToInteractive('df-bba403ca-f223-4ad8-bb46-7dab0f3216f4')\"\n",
              "              title=\"Convert this dataframe to an interactive table.\"\n",
              "              style=\"display:none;\">\n",
              "        \n",
              "  <svg xmlns=\"http://www.w3.org/2000/svg\" height=\"24px\"viewBox=\"0 0 24 24\"\n",
              "       width=\"24px\">\n",
              "    <path d=\"M0 0h24v24H0V0z\" fill=\"none\"/>\n",
              "    <path d=\"M18.56 5.44l.94 2.06.94-2.06 2.06-.94-2.06-.94-.94-2.06-.94 2.06-2.06.94zm-11 1L8.5 8.5l.94-2.06 2.06-.94-2.06-.94L8.5 2.5l-.94 2.06-2.06.94zm10 10l.94 2.06.94-2.06 2.06-.94-2.06-.94-.94-2.06-.94 2.06-2.06.94z\"/><path d=\"M17.41 7.96l-1.37-1.37c-.4-.4-.92-.59-1.43-.59-.52 0-1.04.2-1.43.59L10.3 9.45l-7.72 7.72c-.78.78-.78 2.05 0 2.83L4 21.41c.39.39.9.59 1.41.59.51 0 1.02-.2 1.41-.59l7.78-7.78 2.81-2.81c.8-.78.8-2.07 0-2.86zM5.41 20L4 18.59l7.72-7.72 1.47 1.35L5.41 20z\"/>\n",
              "  </svg>\n",
              "      </button>\n",
              "      \n",
              "  <style>\n",
              "    .colab-df-container {\n",
              "      display:flex;\n",
              "      flex-wrap:wrap;\n",
              "      gap: 12px;\n",
              "    }\n",
              "\n",
              "    .colab-df-convert {\n",
              "      background-color: #E8F0FE;\n",
              "      border: none;\n",
              "      border-radius: 50%;\n",
              "      cursor: pointer;\n",
              "      display: none;\n",
              "      fill: #1967D2;\n",
              "      height: 32px;\n",
              "      padding: 0 0 0 0;\n",
              "      width: 32px;\n",
              "    }\n",
              "\n",
              "    .colab-df-convert:hover {\n",
              "      background-color: #E2EBFA;\n",
              "      box-shadow: 0px 1px 2px rgba(60, 64, 67, 0.3), 0px 1px 3px 1px rgba(60, 64, 67, 0.15);\n",
              "      fill: #174EA6;\n",
              "    }\n",
              "\n",
              "    [theme=dark] .colab-df-convert {\n",
              "      background-color: #3B4455;\n",
              "      fill: #D2E3FC;\n",
              "    }\n",
              "\n",
              "    [theme=dark] .colab-df-convert:hover {\n",
              "      background-color: #434B5C;\n",
              "      box-shadow: 0px 1px 3px 1px rgba(0, 0, 0, 0.15);\n",
              "      filter: drop-shadow(0px 1px 2px rgba(0, 0, 0, 0.3));\n",
              "      fill: #FFFFFF;\n",
              "    }\n",
              "  </style>\n",
              "\n",
              "      <script>\n",
              "        const buttonEl =\n",
              "          document.querySelector('#df-bba403ca-f223-4ad8-bb46-7dab0f3216f4 button.colab-df-convert');\n",
              "        buttonEl.style.display =\n",
              "          google.colab.kernel.accessAllowed ? 'block' : 'none';\n",
              "\n",
              "        async function convertToInteractive(key) {\n",
              "          const element = document.querySelector('#df-bba403ca-f223-4ad8-bb46-7dab0f3216f4');\n",
              "          const dataTable =\n",
              "            await google.colab.kernel.invokeFunction('convertToInteractive',\n",
              "                                                     [key], {});\n",
              "          if (!dataTable) return;\n",
              "\n",
              "          const docLinkHtml = 'Like what you see? Visit the ' +\n",
              "            '<a target=\"_blank\" href=https://colab.research.google.com/notebooks/data_table.ipynb>data table notebook</a>'\n",
              "            + ' to learn more about interactive tables.';\n",
              "          element.innerHTML = '';\n",
              "          dataTable['output_type'] = 'display_data';\n",
              "          await google.colab.output.renderOutput(dataTable, element);\n",
              "          const docLink = document.createElement('div');\n",
              "          docLink.innerHTML = docLinkHtml;\n",
              "          element.appendChild(docLink);\n",
              "        }\n",
              "      </script>\n",
              "    </div>\n",
              "  </div>\n",
              "  "
            ],
            "text/plain": [
              "        Vehicle_Reference_df_res  Vehicle_Type  Vehicle_Manoeuvre  \\\n",
              "2                              1           9.0                9.0   \n",
              "6                              1           3.0               18.0   \n",
              "7                              2          19.0                6.0   \n",
              "8                              1           9.0                9.0   \n",
              "12                             1           9.0               13.0   \n",
              "...                          ...           ...                ...   \n",
              "328127                         1           9.0                5.0   \n",
              "328128                         2           9.0               18.0   \n",
              "328129                         2           9.0               18.0   \n",
              "328130                         3           9.0                3.0   \n",
              "328131                         3           9.0                3.0   \n",
              "\n",
              "        Vehicle_Location-Restricted_Lane  Hit_Object_in_Carriageway  \\\n",
              "2                                    0.0                        0.0   \n",
              "6                                    0.0                        0.0   \n",
              "7                                    0.0                        0.0   \n",
              "8                                    0.0                        0.0   \n",
              "12                                   0.0                        0.0   \n",
              "...                                  ...                        ...   \n",
              "328127                               0.0                        0.0   \n",
              "328128                               0.0                        0.0   \n",
              "328129                               0.0                        0.0   \n",
              "328130                               0.0                        0.0   \n",
              "328131                               0.0                        0.0   \n",
              "\n",
              "        Hit_Object_off_Carriageway Was_Vehicle_Left_Hand_Drive? Sex_of_Driver  \\\n",
              "2                              0.0                          1.0           1.0   \n",
              "6                              0.0                          1.0           1.0   \n",
              "7                              0.0                          1.0           1.0   \n",
              "8                              0.0                          1.0           1.0   \n",
              "12                             0.0                          1.0           2.0   \n",
              "...                            ...                          ...           ...   \n",
              "328127                         0.0                          1.0           2.0   \n",
              "328128                         0.0                          1.0           1.0   \n",
              "328129                         0.0                          1.0           1.0   \n",
              "328130                         0.0                          1.0           2.0   \n",
              "328131                         0.0                          1.0           2.0   \n",
              "\n",
              "        Age_of_Driver  Age_Band_of_Driver  ...  Casualty_Reference  \\\n",
              "2                30.0                 6.0  ...                   1   \n",
              "6                37.0                 7.0  ...                   1   \n",
              "7                44.0                 7.0  ...                   1   \n",
              "8                37.0                 7.0  ...                   1   \n",
              "12               39.0                 7.0  ...                   1   \n",
              "...               ...                 ...  ...                 ...   \n",
              "328127           75.0                10.0  ...                   2   \n",
              "328128           18.0                 4.0  ...                   1   \n",
              "328129           18.0                 4.0  ...                   2   \n",
              "328130           43.0                 7.0  ...                   1   \n",
              "328131           43.0                 7.0  ...                   2   \n",
              "\n",
              "        Casualty_Class  Sex_of_Casualty  Age_of_Casualty  \\\n",
              "2                    3              2.0             33.0   \n",
              "6                    1              1.0             37.0   \n",
              "7                    1              1.0             37.0   \n",
              "8                    1              1.0             37.0   \n",
              "12                   1              1.0             61.0   \n",
              "...                ...              ...              ...   \n",
              "328127               1              2.0             43.0   \n",
              "328128               1              1.0             18.0   \n",
              "328129               1              2.0             43.0   \n",
              "328130               1              1.0             18.0   \n",
              "328131               1              2.0             43.0   \n",
              "\n",
              "        Age_Band_of_Casualty  Casualty_Severity  Pedestrian_Location  \\\n",
              "2                        6.0                  3                  1.0   \n",
              "6                        7.0                  3                  0.0   \n",
              "7                        7.0                  3                  0.0   \n",
              "8                        7.0                  3                  0.0   \n",
              "12                       9.0                  3                  0.0   \n",
              "...                      ...                ...                  ...   \n",
              "328127                   7.0                  3                  0.0   \n",
              "328128                   4.0                  3                  0.0   \n",
              "328129                   7.0                  3                  0.0   \n",
              "328130                   4.0                  3                  0.0   \n",
              "328131                   7.0                  3                  0.0   \n",
              "\n",
              "        Pedestrian_Movement  Casualty_Type  Casualty_IMD_Decile  \n",
              "2                       3.0              0                  6.0  \n",
              "6                       0.0              3                  5.0  \n",
              "7                       0.0              3                  5.0  \n",
              "8                       0.0              1                  8.0  \n",
              "12                      0.0              5                  2.0  \n",
              "...                     ...            ...                  ...  \n",
              "328127                  0.0              9                  6.0  \n",
              "328128                  0.0              9                 10.0  \n",
              "328129                  0.0              9                  6.0  \n",
              "328130                  0.0              9                 10.0  \n",
              "328131                  0.0              9                  6.0  \n",
              "\n",
              "[96326 rows x 33 columns]"
            ]
          },
          "execution_count": 47,
          "metadata": {},
          "output_type": "execute_result"
        }
      ],
      "source": [
        "df"
      ]
    },
    {
      "cell_type": "code",
      "execution_count": 48,
      "id": "22348559",
      "metadata": {
        "id": "22348559"
      },
      "outputs": [],
      "source": [
        "# TODO : make train-test split from the dataframe using the parameters above\n",
        "# expected results variable names - train_X, test_X, train_y, test_y\n",
        "\n",
        "X = df.drop(columns=[target_column])\n",
        "Y = df[target_column]\n",
        "\n",
        "train_X, test_X, train_y, test_y = train_test_split(X, Y, test_size=0.2)"
      ]
    },
    {
      "attachments": {},
      "cell_type": "markdown",
      "id": "77f002d6",
      "metadata": {
        "id": "77f002d6"
      },
      "source": [
        "**TODO :**\n",
        "\n",
        "* Did you split the dataset in a stratified manner or not? Why?\n",
        "* How did the dataset dimensions change after preprocessing?\n",
        "* How many unique values are in the response variable?"
      ]
    },
    {
      "attachments": {},
      "cell_type": "markdown",
      "id": "tAl3OYX0TcOb",
      "metadata": {
        "id": "tAl3OYX0TcOb"
      },
      "source": [
        "\n",
        "1.   Yes, the dataset is split in a stratified manner to preserve the class distribution of the target variable. This is important because the target variable exhibits significant differences in values across its classes. The value counts for each class in the target variable are as follows: 63072 samples for class 1, 33101 samples for class 2, and 154 samples for class 3.\n",
        "2.   Initially dimentions of dataset were 363243 rows × 67 columns and after pre-processing dimentions are 96326 rows × 33 columns.\n",
        "3. There are 3 unique values in response variable.\n",
        "\n"
      ]
    },
    {
      "attachments": {},
      "cell_type": "markdown",
      "id": "f309f4d6",
      "metadata": {
        "id": "f309f4d6"
      },
      "source": [
        "## Task 1: Create a GradientBoostingClassifier"
      ]
    },
    {
      "cell_type": "code",
      "execution_count": 49,
      "id": "cxbPa0evFrRF",
      "metadata": {
        "id": "cxbPa0evFrRF"
      },
      "outputs": [],
      "source": [
        "## TODO : define the GradientBoostingClassifier,\n",
        "## train it on the train set and predict on the test set\n",
        "\n",
        "model = GradientBoostingClassifier()\n",
        "model.fit(train_X, train_y)\n",
        "predictions = model.predict(test_X)\n"
      ]
    },
    {
      "cell_type": "code",
      "execution_count": 50,
      "id": "YZ5j6BMKFrcJ",
      "metadata": {
        "colab": {
          "base_uri": "https://localhost:8080/"
        },
        "id": "YZ5j6BMKFrcJ",
        "outputId": "8622b1a0-28eb-42e2-a77b-9dd9c5f335c7"
      },
      "outputs": [
        {
          "name": "stdout",
          "output_type": "stream",
          "text": [
            "Accuracy: 0.7911346413370705\n",
            "Precision: 0.7864725722759981\n",
            "Recall: 0.7911346413370705\n"
          ]
        }
      ],
      "source": [
        "## TODO : print  accuracy, precision, recall\n",
        "## Hint : use functions from sklearn metrics\n",
        "\n",
        "accuracy = accuracy_score(test_y, predictions)\n",
        "precision = precision_score(test_y, predictions, average='weighted')\n",
        "recall = recall_score(test_y, predictions, average='weighted')\n",
        "\n",
        "print(\"Accuracy:\", accuracy)\n",
        "print(\"Precision:\", precision)\n",
        "print(\"Recall:\", recall)\n"
      ]
    },
    {
      "cell_type": "code",
      "execution_count": 13,
      "id": "598f0ffa",
      "metadata": {
        "id": "598f0ffa"
      },
      "outputs": [],
      "source": [
        "## TODO : Write a function which iterates over trees_amount,\n",
        "## train a classifier with a specified amount of trees and print accuracy, precision, and recall.\n",
        "## Note: the calculations may take several minutes (depending on the computer efficiency).\n",
        "\n",
        "def trees_amount_exploration(train_X, train_y, test_X, test_y, trees_amount=[1, 20, 50, 100]):\n",
        "    #TODO\n",
        "    for n_trees in trees_amount:\n",
        "\n",
        "        model = GradientBoostingClassifier(n_estimators=n_trees)\n",
        "        model.fit(train_X, train_y)\n",
        "\n",
        "        predictions = model.predict(test_X)\n",
        "\n",
        "        accuracy = accuracy_score(test_y, predictions)\n",
        "        precision = precision_score(test_y, predictions, average='weighted')\n",
        "        recall = recall_score(test_y, predictions, average='weighted')\n",
        "\n",
        "        # Print the results\n",
        "        print(f\"Number of trees: {n_trees}\")\n",
        "        print(\"Accuracy:\", accuracy)\n",
        "        print(\"Precision:\", precision)\n",
        "        print(\"Recall:\", recall)\n",
        "        print(\"====================\")\n",
        "\n"
      ]
    },
    {
      "cell_type": "code",
      "execution_count": 14,
      "id": "qcnxg4InEkRl",
      "metadata": {
        "colab": {
          "base_uri": "https://localhost:8080/"
        },
        "id": "qcnxg4InEkRl",
        "outputId": "b6e1effe-945a-40f6-b984-304fda7b930e"
      },
      "outputs": [
        {
          "name": "stderr",
          "output_type": "stream",
          "text": [
            "/usr/local/lib/python3.10/dist-packages/sklearn/metrics/_classification.py:1344: UndefinedMetricWarning: Precision is ill-defined and being set to 0.0 in labels with no predicted samples. Use `zero_division` parameter to control this behavior.\n",
            "  _warn_prf(average, modifier, msg_start, len(result))\n"
          ]
        },
        {
          "name": "stdout",
          "output_type": "stream",
          "text": [
            "Number of trees: 1\n",
            "Accuracy: 0.6573756877400602\n",
            "Precision: 0.432255909292117\n",
            "Recall: 0.6573756877400602\n",
            "====================\n",
            "Number of trees: 20\n",
            "Accuracy: 0.771255060728745\n",
            "Precision: 0.7661583735676147\n",
            "Recall: 0.771255060728745\n",
            "====================\n",
            "Number of trees: 50\n",
            "Accuracy: 0.7788850825288072\n",
            "Precision: 0.7728276765221942\n",
            "Recall: 0.7788850825288072\n",
            "====================\n",
            "Number of trees: 100\n",
            "Accuracy: 0.7881241565452092\n",
            "Precision: 0.7829426618156926\n",
            "Recall: 0.7881241565452092\n",
            "====================\n"
          ]
        }
      ],
      "source": [
        "trees_amount_exploration(train_X, train_y, test_X, test_y)"
      ]
    },
    {
      "cell_type": "code",
      "execution_count": 15,
      "id": "518fc198",
      "metadata": {
        "id": "518fc198"
      },
      "outputs": [],
      "source": [
        "## TODO : Write a function which iterates over the learning rate,\n",
        "## train a classifier with a specified amount of trees and print accuracy, precision, and recall.\n",
        "## Note: the calculations may take several minutes (depending on the computer efficiency).\n",
        "\n",
        "def learning_rate_exploration(train_X, train_y, test_X, test_y, learning_rates = [0.1, 0.2, 0.3, 0.4, 0.5], trees_amount=100):\n",
        "    #TODO\n",
        "    for lr in learning_rates:\n",
        "        model = GradientBoostingClassifier(n_estimators=trees_amount, learning_rate=lr)\n",
        "        model.fit(train_X, train_y)\n",
        "        predictions = model.predict(test_X)\n",
        "\n",
        "        accuracy = accuracy_score(test_y, predictions)\n",
        "        precision = precision_score(test_y, predictions, average='weighted')\n",
        "        recall = recall_score(test_y, predictions, average='weighted')\n",
        "\n",
        "        print(f\"Learning Rate: {lr}\")\n",
        "        print(\"Accuracy:\", accuracy)\n",
        "        print(\"Precision:\", precision)\n",
        "        print(\"Recall:\", recall)"
      ]
    },
    {
      "cell_type": "code",
      "execution_count": 16,
      "id": "afb2ae07",
      "metadata": {
        "colab": {
          "base_uri": "https://localhost:8080/"
        },
        "id": "afb2ae07",
        "outputId": "a3fae1d6-9908-4cfe-c1da-ac314f3b9e0a"
      },
      "outputs": [
        {
          "name": "stdout",
          "output_type": "stream",
          "text": [
            "Learning Rate: 0.1\n",
            "Accuracy: 0.7880203467248001\n",
            "Precision: 0.7828910713909347\n",
            "Recall: 0.7880203467248001\n",
            "Learning Rate: 0.2\n",
            "Accuracy: 0.7925879788227966\n",
            "Precision: 0.7881124199545269\n",
            "Recall: 0.7925879788227966\n",
            "Learning Rate: 0.3\n",
            "Accuracy: 0.7958579881656804\n",
            "Precision: 0.7914390561572855\n",
            "Recall: 0.7958579881656804\n",
            "Learning Rate: 0.4\n",
            "Accuracy: 0.7976227551126337\n",
            "Precision: 0.792536922977536\n",
            "Recall: 0.7976227551126337\n",
            "Learning Rate: 0.5\n",
            "Accuracy: 0.7937298868472957\n",
            "Precision: 0.7896331371740676\n",
            "Recall: 0.7937298868472957\n"
          ]
        }
      ],
      "source": [
        "learning_rate_exploration(train_X, train_y, test_X, test_y)"
      ]
    },
    {
      "cell_type": "code",
      "execution_count": 17,
      "id": "T-akqJfbEkVF",
      "metadata": {
        "id": "T-akqJfbEkVF"
      },
      "outputs": [],
      "source": [
        "## TODO : Write a function which iterates over different depths,\n",
        "## train a classifier with a specified depth and print accuracy, precision, and recall\n",
        "## Set trees_amount= 50 to make the calculations faster\n",
        "## Note: the calculations may take several minutes (depending on the computer efficiency).\n",
        "\n",
        "from sklearn.ensemble import GradientBoostingClassifier\n",
        "from sklearn.metrics import accuracy_score, precision_score, recall_score\n",
        "\n",
        "def max_depth_exploration(train_X, train_y, test_X, test_y, depths=[1, 2, 3, 5], trees_amount=50):\n",
        "    for depth in depths:\n",
        "        model = GradientBoostingClassifier(max_depth=depth, n_estimators=trees_amount)\n",
        "        model.fit(train_X, train_y)\n",
        "        predictions = model.predict(test_X)\n",
        "\n",
        "        accuracy = accuracy_score(test_y, predictions)\n",
        "        precision = precision_score(test_y, predictions, average='weighted')\n",
        "        recall = recall_score(test_y, predictions, average='weighted')\n",
        "\n",
        "        print(f\"Max Depth: {depth}\")\n",
        "        print(\"Accuracy:\", accuracy)\n",
        "        print(\"Precision:\", precision)\n",
        "        print(\"Recall:\", recall)\n",
        "\n"
      ]
    },
    {
      "cell_type": "code",
      "execution_count": 18,
      "id": "3oFAnFOnEkdX",
      "metadata": {
        "colab": {
          "base_uri": "https://localhost:8080/"
        },
        "id": "3oFAnFOnEkdX",
        "outputId": "d3b129e0-b32d-4d82-e4b5-cbf97aa81527"
      },
      "outputs": [
        {
          "name": "stderr",
          "output_type": "stream",
          "text": [
            "/usr/local/lib/python3.10/dist-packages/sklearn/metrics/_classification.py:1344: UndefinedMetricWarning: Precision is ill-defined and being set to 0.0 in labels with no predicted samples. Use `zero_division` parameter to control this behavior.\n",
            "  _warn_prf(average, modifier, msg_start, len(result))\n"
          ]
        },
        {
          "name": "stdout",
          "output_type": "stream",
          "text": [
            "Max Depth: 1\n",
            "Accuracy: 0.7465483234714004\n",
            "Precision: 0.7369399384457502\n",
            "Recall: 0.7465483234714004\n",
            "Max Depth: 2\n",
            "Accuracy: 0.7636769438388872\n",
            "Precision: 0.7563895093942788\n",
            "Recall: 0.7636769438388872\n",
            "Max Depth: 3\n",
            "Accuracy: 0.7788850825288072\n",
            "Precision: 0.7728645805178492\n",
            "Recall: 0.7788850825288072\n",
            "Max Depth: 5\n",
            "Accuracy: 0.7943527457697498\n",
            "Precision: 0.7901646824807883\n",
            "Recall: 0.7943527457697498\n"
          ]
        }
      ],
      "source": [
        "max_depth_exploration(train_X, train_y, test_X, test_y)"
      ]
    },
    {
      "attachments": {},
      "cell_type": "markdown",
      "id": "75fc86d1",
      "metadata": {
        "id": "75fc86d1"
      },
      "source": [
        "**TODO :**\n",
        "\n",
        "* How does the max_depth parameter influence the results?\n",
        "* How does the learning rate influence the results?\n",
        "* How does the number of trees in the ensemble influence the results?\n",
        "* Try to improve the accuracy by combining different max_depth, learning rate and number of trees. How well does your best model perform?\n",
        "\n",
        "The max_depth parameter in gradient boosting algorithms controls the maximum depth of each decision tree in the ensemble. Increasing the max_depth can result in a more complex model that can capture intricate patterns in the data. However, setting a larger max_depth can also lead to overfitting, especially if the dataset is small or noisy. On the other hand, using a smaller max_depth can help prevent overfitting but may result in a less expressive model that may struggle to capture complex relationships.\n",
        "\n",
        "The learning_rate parameter determines the contribution of each tree to the overall model. A smaller learning rate means that each tree's contribution is reduced, and the model learns more slowly. However, a smaller learning rate can also help in reaching a better solution by allowing the model to make smaller updates and avoid overshooting the optimal solution\n",
        "\n",
        "The number of trees in the ensemble, specified by the n_estimators parameter, influences the overall complexity of the model. Increasing the number of trees allows the model to learn more complex relationships and potentially improve performance. However, there is a trade-off with computational efficiency, as a larger number of trees requires more computational resources and training time.\n",
        "\n",
        "\n",
        "Our best model [n_estimators=100, lr=0.3, depth=5] gives an accuracy of 0.81."
      ]
    },
    {
      "cell_type": "code",
      "execution_count": 51,
      "id": "zjSXOmGc1-pG",
      "metadata": {
        "colab": {
          "base_uri": "https://localhost:8080/"
        },
        "id": "zjSXOmGc1-pG",
        "outputId": "22336c0b-153a-45f4-ac0e-ced27385ef23"
      },
      "outputs": [
        {
          "name": "stdout",
          "output_type": "stream",
          "text": [
            "For Tree amount: 100, Learning Rate: 0.3, Depth: 5 => Accuracy = 0.8111699366760096, Precision = 0.6161312205221559, Recall = 0.560527590494901\n"
          ]
        }
      ],
      "source": [
        "tree = 100\n",
        "lr = 0.3\n",
        "depth = 5\n",
        "classifier = GradientBoostingClassifier(n_estimators=tree, learning_rate= lr, max_depth=depth)\n",
        "classifier.fit(train_X, train_y)\n",
        "y_pred = classifier.predict(test_X)\n",
        "acc = accuracy_score(test_y, y_pred)\n",
        "prec = precision_score(test_y, y_pred,average = \"macro\")\n",
        "rec = recall_score(test_y, y_pred,average = \"macro\")\n",
        "print(f\"For {tree} trees, Learning Rate: {lr}, Depth: {depth}, we have Accuracy = {acc}, Precision = {prec}, Recall = {rec}\")"
      ]
    },
    {
      "cell_type": "code",
      "execution_count": 19,
      "id": "aa0c330e",
      "metadata": {
        "id": "aa0c330e"
      },
      "outputs": [],
      "source": [
        "## TODO -  sklearn trees have the attribute feature_importances_\n",
        "## make a plot, to show relative importance (maximum is 1) of your classifier and\n",
        "## order features from most relevant feature to the least relevant in the plot\n",
        "\n",
        "def plot_explained_variance(clf, X):\n",
        "    # TODO\n",
        "    importances = clf.feature_importances_\n",
        "\n",
        "    sorted_indices = importances.argsort()[::-1]\n",
        "\n",
        "    sorted_feature_names = X.columns[sorted_indices]\n",
        "\n",
        "    sorted_importances = importances[sorted_indices]\n",
        "\n",
        "    plt.figure(figsize=(10, 6))\n",
        "    plt.bar(range(len(sorted_importances)), sorted_importances)\n",
        "    plt.xticks(range(len(sorted_importances)), sorted_feature_names, rotation='vertical')\n",
        "    plt.xlabel('Features')\n",
        "    plt.ylabel('Relative Importance')\n",
        "    plt.title('Feature Importances')\n",
        "    plt.tight_layout()\n",
        "    plt.show()"
      ]
    },
    {
      "cell_type": "code",
      "execution_count": 20,
      "id": "6cf90239",
      "metadata": {
        "colab": {
          "base_uri": "https://localhost:8080/",
          "height": 607
        },
        "id": "6cf90239",
        "outputId": "0f7b1277-cc1a-4cba-873b-cb3b3e136250"
      },
      "outputs": [
        {
          "data": {
            "image/png": "[encoded data removed]",
            "text/plain": [
              "<Figure size 1000x600 with 1 Axes>"
            ]
          },
          "metadata": {},
          "output_type": "display_data"
        }
      ],
      "source": [
        "## TODO : display the plot\n",
        "plot_explained_variance(model, X)"
      ]
    },
    {
      "attachments": {},
      "cell_type": "markdown",
      "id": "2e0872d8",
      "metadata": {
        "id": "2e0872d8"
      },
      "source": [
        "**TODO :** Interpret the plot.\n",
        "By analyzing, we can determine the key factors that strongly influence the classifier's predictions. Features that possess greater importance (such as Sex_of_Casualty, Casualty_Class, Vehicle_Type, Engine_Capacity_(CC)) are regarded as more significant, while features with lower importance (like Was_Vehicle_Left_Hand_Drive?, Casualty_Severity, Pedestrian_Movement, Urban_or_Rural_Area, etc.) seem to have less relevance for the model in question.\n",
        "\n",
        "**TODO (optional):** Try to remove the least-important features and see what happens. Does to quality improve or degrade? Why?"
      ]
    },
    {
      "attachments": {},
      "cell_type": "markdown",
      "id": "jhE75y_UN7Qx",
      "metadata": {
        "id": "jhE75y_UN7Qx"
      },
      "source": [
        "## Prepare for deep learning\n",
        "### Add all the necessary training functions\n",
        "*You can reuse them from previous practical exercises*"
      ]
    },
    {
      "cell_type": "code",
      "execution_count": 21,
      "id": "LfDLPO2QODES",
      "metadata": {
        "id": "LfDLPO2QODES"
      },
      "outputs": [],
      "source": [
        "## TODO write a function that calculates the accuracy\n",
        "## Hint - you can use yours from practical 3\n",
        "\n",
        "def accuracy(correct, total):\n",
        "    \"\"\"\n",
        "    function to calculate the accuracy given the\n",
        "        correct: number of correctly classified samples\n",
        "        total: total number of samples\n",
        "    returns the ratio\n",
        "    \"\"\"\n",
        "    return correct / total"
      ]
    },
    {
      "cell_type": "code",
      "execution_count": 22,
      "id": "EVe7SFnrODHP",
      "metadata": {
        "id": "EVe7SFnrODHP"
      },
      "outputs": [],
      "source": [
        "## TODO : Define a train and validation functions here\n",
        "## Hint - you can use yours from practical 3\n",
        "\n",
        "def train(dataloader, optimizer, model, loss_fn, device, master_bar):\n",
        "    \"\"\" method to train the model \"\"\"\n",
        "    # Todo\n",
        "    _losses = []\n",
        "    _accuracies = []\n",
        "\n",
        "    model.train()\n",
        "\n",
        "    for _, (x, y) in enumerate(master_bar):\n",
        "        optimizer.zero_grad()\n",
        "\n",
        "        # Forward pass: get predictions\n",
        "        y_pred = model(x.to(device))\n",
        "\n",
        "        # Compute loss\n",
        "        loss = loss_fn(y_pred, y.to(device))\n",
        "\n",
        "        # Backward pass -> calculate gradients, update weights\n",
        "        loss.backward()\n",
        "        _losses.append(loss.cpu().item())\n",
        "\n",
        "        _accuracies.append(accuracy(torch.sum(torch.argmax(y_pred, 1) == y.to(device)).item(), len(y_pred)))\n",
        "\n",
        "        optimizer.step()\n",
        "\n",
        "    return (np.mean(_losses), np.mean(_accuracies))\n",
        "\n",
        "def validate(dataloader, model, loss_fn, device, master_bar):\n",
        "    \"\"\" method to compute the metrics on the validation set \"\"\"\n",
        "    # Todo\n",
        "    _losses = []\n",
        "    _accuracies = []\n",
        "\n",
        "    model.eval()\n",
        "\n",
        "    with torch.no_grad():\n",
        "\n",
        "        for _, (x, y) in enumerate(master_bar):\n",
        "            # Forward pass: get predictions\n",
        "            y_pred = model(x.to(device))\n",
        "\n",
        "            # Compute loss\n",
        "            loss = loss_fn(y_pred, y.to(device))\n",
        "\n",
        "            _accuracies.append(accuracy(torch.sum(torch.argmax(y_pred, 1) == y.to(device)).item(), len(y_pred)))\n",
        "\n",
        "            _losses.append(loss.cpu().item())\n",
        "\n",
        "    return (np.mean(_losses), np.mean(_accuracies))"
      ]
    },
    {
      "cell_type": "code",
      "execution_count": 23,
      "id": "pzGM0bPqxw3V",
      "metadata": {
        "id": "pzGM0bPqxw3V"
      },
      "outputs": [],
      "source": [
        "#TODO write a run_training function that\n",
        "# - calls the train and validate functions for each epoch\n",
        "# - saves the train_losses, val_losses, train_accs, val_accs as arrays for each epoch\n",
        "## Hint - you can use yours from practical 3\n",
        "from tqdm import trange,tqdm\n",
        "\n",
        "\n",
        "def run_training(model, optimizer, loss_function, device, num_epochs, train_dataloader, val_dataloader):\n",
        "    \"\"\" method to run the training procedure \"\"\"\n",
        "    # TODO\n",
        "    train_losses = []\n",
        "    val_losses = []\n",
        "    train_accs = []\n",
        "    val_accs = []\n",
        "\n",
        "    for epoch in range(num_epochs):\n",
        "        with tqdm(train_dataloader, unit=\"batch\") as tepoch:\n",
        "            tepoch.set_description(f\"Training Epoch {epoch+1}\")\n",
        "            train_loss, train_acc = train(train_dataloader, optimizer, model, loss_function, device, tepoch)\n",
        "            train_losses.append(train_loss)\n",
        "            train_accs.append(train_acc)\n",
        "        with tqdm(val_dataloader, unit=\"batch\") as vepoch:\n",
        "            vepoch.set_description(f\"Validation Epoch {epoch+1}\")\n",
        "            val_loss, val_acc = validate(val_dataloader, model, loss_function, device,vepoch)\n",
        "            val_losses.append(val_loss)\n",
        "            val_accs.append(val_acc)\n",
        "\n",
        "    return (train_losses, val_losses, train_accs, val_accs)"
      ]
    },
    {
      "cell_type": "code",
      "execution_count": 24,
      "id": "ngflrAEJxw5t",
      "metadata": {
        "id": "ngflrAEJxw5t"
      },
      "outputs": [],
      "source": [
        "# TODO write a plot function\n",
        "## Hint - you can use yours from practical 2 or 3\n",
        "def plot_loss(train_losses, val_losses,num_epochs,title):\n",
        "    trainloss_data = {'epoch': range(1,num_epochs+1), 'train_loss': train_losses, 'val_loss': val_losses}\n",
        "    df = pd.DataFrame(trainloss_data)\n",
        "    df.plot(x='epoch', xticks=df.epoch, figsize=(10, 6),title=title)\n",
        "\n",
        "def plot_acc(train_accs, val_accs,num_epochs,title):\n",
        "    trainacc_data = {'epoch': range(1,num_epochs+1), 'train_accuracy': train_accs, 'val_accuracy': val_accs}\n",
        "    df = pd.DataFrame(trainacc_data)\n",
        "    df.plot(x='epoch', xticks=df.epoch, figsize=(10, 6),title=title)"
      ]
    },
    {
      "attachments": {},
      "cell_type": "markdown",
      "id": "9iqaRi2xRADg",
      "metadata": {
        "id": "9iqaRi2xRADg"
      },
      "source": [
        "### Convert a pandas dataframe to a PyTorch dataset"
      ]
    },
    {
      "cell_type": "code",
      "execution_count": 25,
      "id": "e3dcbc2c",
      "metadata": {
        "id": "e3dcbc2c"
      },
      "outputs": [],
      "source": [
        "## TODO : Define the dataset, apply normalization in the getitem method\n",
        "## Hint : you can use/adapt your code from practical 2\n",
        "class TabularDataset(torch.utils.data.Dataset):\n",
        "    def __init__(self, df_x, df_y, mean=None, std=None, normalise=True):\n",
        "        '''\n",
        "        TODO: save params to self attributes,\n",
        "        x is data without target column\n",
        "        y is target column\n",
        "        transform df to_numpy\n",
        "        '''\n",
        "        self.x = df_x.to_numpy()\n",
        "        self.y = df_y.to_numpy()\n",
        "        self.mean = mean\n",
        "        self.std = std\n",
        "        self.normalise = normalise\n",
        "\n",
        "    def __len__(self):\n",
        "        # TODO: return the length of the whole dataset\n",
        "        return len(self.x)\n",
        "        #return (len(self.x)+len(self.y))\n",
        "\n",
        "\n",
        "    def __getitem__(self, index):\n",
        "        ## TODO: return X, y by index, normalized if needed\n",
        "        X = self.x[index]\n",
        "        Y = self.y[index]\n",
        "        if self.normalise and self.mean is not None and self.std is not None:\n",
        "            X = (X - self.mean) / self.std\n",
        "        return X, Y\n"
      ]
    },
    {
      "cell_type": "code",
      "execution_count": 26,
      "id": "3jJXxpF-KIpz",
      "metadata": {
        "id": "3jJXxpF-KIpz"
      },
      "outputs": [],
      "source": [
        "## TODO : calculate mean and std for the train set\n",
        "## Hint : be careful with categorical values. Convert them them to numerical\n",
        "## Hint : the response variable should be of datatype integer\n",
        "# Convert the response variable to integer data type\n",
        "train_X = pd.get_dummies(train_X.astype('float32'))\n",
        "train_y = train_y.astype('float').astype('int64')\n",
        "test_X = pd.get_dummies(test_X.astype('float32'))\n",
        "test_y = test_y.astype('float').astype('int64')\n",
        "\n",
        "\n",
        "dataset = TabularDataset(train_X, train_y)\n",
        "train_mean = dataset.x.mean(axis=0)\n",
        "train_std = dataset.x.std(axis=0)"
      ]
    },
    {
      "cell_type": "code",
      "execution_count": 27,
      "id": "Ef6dNkihxzYd",
      "metadata": {
        "id": "Ef6dNkihxzYd"
      },
      "outputs": [],
      "source": [
        "# TODO : define new datasets with mean, std and normalise=True\n",
        "# be careful with the labels, they should start from 0!\n",
        "train_y = train_y - 1\n",
        "test_y = test_y - 1\n",
        "\n",
        "train_dataset = TabularDataset(train_X, train_y,mean=train_mean, std=train_std ,normalise=True)\n",
        "test_dataset = TabularDataset(test_X, test_y, mean=train_mean, std=train_std, normalise=True)\n",
        "\n",
        "## TODO : define dataloaders, with specified batch size and shuffled\n",
        "batch_size = 256\n",
        "\n",
        "train_loader = DataLoader(train_dataset, batch_size=batch_size, shuffle=True, num_workers=2)\n",
        "test_loader = DataLoader(test_dataset, batch_size=batch_size, shuffle=True, num_workers=2)\n"
      ]
    },
    {
      "attachments": {},
      "cell_type": "markdown",
      "id": "N28MlXQ7ON1j",
      "metadata": {
        "id": "N28MlXQ7ON1j"
      },
      "source": [
        "## Logistic regression"
      ]
    },
    {
      "cell_type": "code",
      "execution_count": 28,
      "id": "NT-EtgZKOLb0",
      "metadata": {
        "id": "NT-EtgZKOLb0"
      },
      "outputs": [],
      "source": [
        "class LR(torch.nn.Module):\n",
        "    \"\"\"\n",
        "    Logistic regression model inherits from the torch.nn.Module\n",
        "    which is the base class for all neural network modules.\n",
        "    \"\"\"\n",
        "    def __init__(self, input_dim, output_dim):\n",
        "        \"\"\" Initializes internal Module state. \"\"\"\n",
        "        super(LR, self).__init__()\n",
        "\n",
        "        self.linear = nn.Linear(input_dim, output_dim)\n",
        "\n",
        "    def forward(self, x):\n",
        "        \"\"\" Defines the computation performed at every call. \"\"\"\n",
        "        # Flatten the input to a suitable size for the initial layer\n",
        "        x = x.view(x.size(0), -1)\n",
        "\n",
        "        # Pass the data through the linear layer\n",
        "        outputs = self.linear(x)\n",
        "        return outputs"
      ]
    },
    {
      "cell_type": "code",
      "execution_count": 29,
      "id": "eWDd_hYGOZSj",
      "metadata": {
        "id": "eWDd_hYGOZSj"
      },
      "outputs": [],
      "source": [
        "## TODO define model, loss and optimisers\n",
        "## don't forget to move everything for the correct devices\n",
        "##\n",
        "lr=0.001\n",
        "input_dim = train_X.shape[1]\n",
        "output_dim = len(train_y.unique())\n",
        "linear_regression = LR(input_dim, output_dim)\n",
        "linear_regression.to(device)\n",
        "linear_regression.train()\n",
        "optimizer = torch.optim.Adam(linear_regression.parameters(), lr=lr)\n",
        "loss_fn = nn.CrossEntropyLoss()"
      ]
    },
    {
      "cell_type": "code",
      "execution_count": 30,
      "id": "6EFwKn-iOgNv",
      "metadata": {
        "colab": {
          "base_uri": "https://localhost:8080/"
        },
        "id": "6EFwKn-iOgNv",
        "outputId": "b5f13664-21bc-4202-9894-021008ef1970"
      },
      "outputs": [
        {
          "name": "stderr",
          "output_type": "stream",
          "text": [
            "Training Epoch 1: 100%|██████████| 302/302 [00:04<00:00, 62.59batch/s] \n",
            "Validation Epoch 1: 100%|██████████| 76/76 [00:00<00:00, 203.87batch/s]\n",
            "Training Epoch 2: 100%|██████████| 302/302 [00:01<00:00, 225.58batch/s]\n",
            "Validation Epoch 2: 100%|██████████| 76/76 [00:00<00:00, 202.85batch/s]\n",
            "Training Epoch 3: 100%|██████████| 302/302 [00:01<00:00, 224.63batch/s]\n",
            "Validation Epoch 3: 100%|██████████| 76/76 [00:00<00:00, 191.37batch/s]\n",
            "Training Epoch 4: 100%|██████████| 302/302 [00:01<00:00, 228.89batch/s]\n",
            "Validation Epoch 4: 100%|██████████| 76/76 [00:00<00:00, 204.61batch/s]\n",
            "Training Epoch 5: 100%|██████████| 302/302 [00:01<00:00, 227.62batch/s]\n",
            "Validation Epoch 5: 100%|██████████| 76/76 [00:00<00:00, 143.24batch/s]\n",
            "Training Epoch 6: 100%|██████████| 302/302 [00:02<00:00, 141.89batch/s]\n",
            "Validation Epoch 6: 100%|██████████| 76/76 [00:00<00:00, 123.64batch/s]\n",
            "Training Epoch 7: 100%|██████████| 302/302 [00:01<00:00, 174.88batch/s]\n",
            "Validation Epoch 7: 100%|██████████| 76/76 [00:00<00:00, 197.77batch/s]\n",
            "Training Epoch 8: 100%|██████████| 302/302 [00:01<00:00, 236.14batch/s]\n",
            "Validation Epoch 8: 100%|██████████| 76/76 [00:00<00:00, 206.18batch/s]\n",
            "Training Epoch 9: 100%|██████████| 302/302 [00:01<00:00, 231.35batch/s]\n",
            "Validation Epoch 9: 100%|██████████| 76/76 [00:00<00:00, 209.66batch/s]\n",
            "Training Epoch 10: 100%|██████████| 302/302 [00:01<00:00, 239.59batch/s]\n",
            "Validation Epoch 10: 100%|██████████| 76/76 [00:00<00:00, 202.21batch/s]\n",
            "Training Epoch 11: 100%|██████████| 302/302 [00:01<00:00, 239.94batch/s]\n",
            "Validation Epoch 11: 100%|██████████| 76/76 [00:00<00:00, 217.77batch/s]\n",
            "Training Epoch 12: 100%|██████████| 302/302 [00:01<00:00, 243.10batch/s]\n",
            "Validation Epoch 12: 100%|██████████| 76/76 [00:00<00:00, 206.13batch/s]\n",
            "Training Epoch 13: 100%|██████████| 302/302 [00:01<00:00, 176.48batch/s]\n",
            "Validation Epoch 13: 100%|██████████| 76/76 [00:00<00:00, 128.23batch/s]\n",
            "Training Epoch 14: 100%|██████████| 302/302 [00:02<00:00, 141.62batch/s]\n",
            "Validation Epoch 14: 100%|██████████| 76/76 [00:00<00:00, 196.41batch/s]\n",
            "Training Epoch 15: 100%|██████████| 302/302 [00:01<00:00, 232.99batch/s]\n",
            "Validation Epoch 15: 100%|██████████| 76/76 [00:00<00:00, 208.72batch/s]\n",
            "Training Epoch 16: 100%|██████████| 302/302 [00:01<00:00, 236.07batch/s]\n",
            "Validation Epoch 16: 100%|██████████| 76/76 [00:00<00:00, 221.50batch/s]\n",
            "Training Epoch 17: 100%|██████████| 302/302 [00:01<00:00, 235.81batch/s]\n",
            "Validation Epoch 17: 100%|██████████| 76/76 [00:00<00:00, 196.74batch/s]\n",
            "Training Epoch 18: 100%|██████████| 302/302 [00:01<00:00, 230.58batch/s]\n",
            "Validation Epoch 18: 100%|██████████| 76/76 [00:00<00:00, 212.65batch/s]\n",
            "Training Epoch 19: 100%|██████████| 302/302 [00:01<00:00, 241.84batch/s]\n",
            "Validation Epoch 19: 100%|██████████| 76/76 [00:00<00:00, 198.68batch/s]\n",
            "Training Epoch 20: 100%|██████████| 302/302 [00:01<00:00, 239.67batch/s]\n",
            "Validation Epoch 20: 100%|██████████| 76/76 [00:00<00:00, 138.42batch/s]\n",
            "Training Epoch 21: 100%|██████████| 302/302 [00:02<00:00, 140.83batch/s]\n",
            "Validation Epoch 21: 100%|██████████| 76/76 [00:00<00:00, 126.67batch/s]\n",
            "Training Epoch 22: 100%|██████████| 302/302 [00:01<00:00, 196.74batch/s]\n",
            "Validation Epoch 22: 100%|██████████| 76/76 [00:00<00:00, 203.24batch/s]\n",
            "Training Epoch 23: 100%|██████████| 302/302 [00:01<00:00, 241.42batch/s]\n",
            "Validation Epoch 23: 100%|██████████| 76/76 [00:00<00:00, 210.46batch/s]\n",
            "Training Epoch 24: 100%|██████████| 302/302 [00:01<00:00, 240.39batch/s]\n",
            "Validation Epoch 24: 100%|██████████| 76/76 [00:00<00:00, 218.75batch/s]\n",
            "Training Epoch 25: 100%|██████████| 302/302 [00:01<00:00, 231.58batch/s]\n",
            "Validation Epoch 25: 100%|██████████| 76/76 [00:00<00:00, 204.28batch/s]\n",
            "Training Epoch 26: 100%|██████████| 302/302 [00:01<00:00, 173.00batch/s]\n",
            "Validation Epoch 26: 100%|██████████| 76/76 [00:00<00:00, 119.83batch/s]\n",
            "Training Epoch 27: 100%|██████████| 302/302 [00:02<00:00, 138.58batch/s]\n",
            "Validation Epoch 27: 100%|██████████| 76/76 [00:00<00:00, 110.62batch/s]\n",
            "Training Epoch 28: 100%|██████████| 302/302 [00:02<00:00, 140.64batch/s]\n",
            "Validation Epoch 28: 100%|██████████| 76/76 [00:00<00:00, 130.27batch/s]\n",
            "Training Epoch 29: 100%|██████████| 302/302 [00:01<00:00, 226.73batch/s]\n",
            "Validation Epoch 29: 100%|██████████| 76/76 [00:00<00:00, 205.44batch/s]\n",
            "Training Epoch 30: 100%|██████████| 302/302 [00:01<00:00, 246.24batch/s]\n",
            "Validation Epoch 30: 100%|██████████| 76/76 [00:00<00:00, 214.95batch/s]\n"
          ]
        }
      ],
      "source": [
        "## TODO train the network\n",
        "num_epochs = 30\n",
        "\n",
        "train_losses_lr, val_losses_lr, train_accs_lr, val_accs_lr = run_training(linear_regression, optimizer, loss_fn, device, num_epochs, train_loader, test_loader)"
      ]
    },
    {
      "cell_type": "code",
      "execution_count": 31,
      "id": "6bddc8d4",
      "metadata": {
        "id": "6bddc8d4"
      },
      "outputs": [],
      "source": [
        "def plot(title, ylabel, X, Y):\n",
        "    epochs = range(1, len(X) + 1)\n",
        "\n",
        "    plt.plot(epochs, X, label='Train')\n",
        "    plt.plot(epochs, Y, label='Validation')\n",
        "\n",
        "    plt.title(title)\n",
        "    plt.xlabel('Epoch')\n",
        "    plt.ylabel(ylabel)\n",
        "    plt.legend()\n",
        "    plt.show()"
      ]
    },
    {
      "cell_type": "code",
      "execution_count": 32,
      "id": "H-IJWOsATYul",
      "metadata": {
        "colab": {
          "base_uri": "https://localhost:8080/",
          "height": 472
        },
        "id": "H-IJWOsATYul",
        "outputId": "fe2f12bd-4e29-4718-a39a-9b52efb39cdd"
      },
      "outputs": [
        {
          "data": {
            "image/png": "[encoded data removed]",
            "text/plain": [
              "<Figure size 640x480 with 1 Axes>"
            ]
          },
          "metadata": {},
          "output_type": "display_data"
        }
      ],
      "source": [
        "## todo - plot losses and accuracies\n",
        "plot('Epoch vs. Loss', 'Loss', train_losses_lr, val_losses_lr)"
      ]
    },
    {
      "cell_type": "code",
      "execution_count": 33,
      "id": "HjAaYdd8TZed",
      "metadata": {
        "colab": {
          "base_uri": "https://localhost:8080/",
          "height": 472
        },
        "id": "HjAaYdd8TZed",
        "outputId": "b13fb2da-411c-492b-d7fc-85147c74bf4a"
      },
      "outputs": [
        {
          "data": {
            "image/png": "[encoded data removed]",
            "text/plain": [
              "<Figure size 640x480 with 1 Axes>"
            ]
          },
          "metadata": {},
          "output_type": "display_data"
        }
      ],
      "source": [
        "plot('Epoch vs. Accuracy', 'Accuracy', train_accs_lr, val_accs_lr)"
      ]
    },
    {
      "attachments": {},
      "cell_type": "markdown",
      "id": "cb1bca9a",
      "metadata": {
        "id": "cb1bca9a"
      },
      "source": [
        "\n",
        "## Create a simple MLP\n",
        "\n",
        "As the default tree has 3 layers, let's make a MLP with 3 linear layers and ReLU.\n",
        "Please notice that making convolutions on tabular data does not make much sense even though it is technically possible.\n",
        "\n",
        "**TODO :** Explain why making convolutions on tabular data does not make much sense. Why do we use an MLP, not a CNN from the previous homework?"
      ]
    },
    {
      "attachments": {},
      "cell_type": "markdown",
      "id": "9c3a5385",
      "metadata": {
        "id": "9c3a5385"
      },
      "source": [
        "**Making convolutions on tabular data does not make much sense for several reasons:**\n",
        "\n",
        "**1. Spatial Structure**: Convolutional Neural Networks (CNNs) are designed to exploit the spatial structure in data. In tasks like image classification, the spatial relationships between neighboring pixels are important for understanding the content of an image. However, tabular data does not possess a spatial structure. Each feature in tabular data is typically independent of its neighboring features, and there is no inherent spatial arrangement or order that carries relevant information. Applying convolutions to tabular data would not capture meaningful patterns or relationships.\n",
        "\n",
        "**2. Feature Invariance**: CNNs are designed to be invariant to certain transformations like translations, rotations, and scaling. In image classification, for example, the location or position of an object within an image should not affect the classification outcome. However, in tabular data, the order or position of features may be crucial. For instance, in time series data, the temporal ordering of events is critical for understanding and predicting future outcomes. Convolutional layers are not well-suited to capture these order-sensitive patterns in tabular data.\n",
        "\n",
        "**3. Complex Feature Interactions**: Tabular data often contains high-dimensional features with complex interactions. CNNs are effective at capturing local interactions within a receptive field, but they may not be as effective at modeling complex global interactions among features. Multi-Layer Perceptrons (MLPs) with fully connected layers provide greater flexibility in capturing these complex interactions, as every neuron in one layer is connected to every neuron in the subsequent layer. This allows MLPs to better capture the intricate relationships between features in tabular data.\n",
        "\n",
        "Given these reasons, MLPs are commonly used for processing tabular data. MLPs are capable of handling high-dimensional feature spaces, capturing complex feature interactions, and accommodating the absence of spatial structure in tabular data.\n"
      ]
    },
    {
      "cell_type": "code",
      "execution_count": 34,
      "id": "4eecbb52",
      "metadata": {
        "id": "4eecbb52"
      },
      "outputs": [],
      "source": [
        "class TabularNetwork(torch.nn.Module):\n",
        "    def __init__(self, input_dim, output_dim):\n",
        "        \"\"\" Initializes internal Module state. \"\"\"\n",
        "        super(TabularNetwork, self).__init__()\n",
        "        #self.fc1 = nn.Linear(input_dim, 2)\n",
        "        #self.fc2 = nn.Linear(2, output_dim)\n",
        "        #self.relu=nn.ReLU()\n",
        "        #self.flat = nn.Flatten()\n",
        "        self.network = nn.Sequential(\n",
        "             # TODO : define 3 linear layer with sizes\n",
        "             # input_dim -> input_dim // 2 -> output_dim\n",
        "            # using ReLU as nonlinearity\n",
        "             nn.Linear(input_dim, 2),\n",
        "             nn.ReLU(),\n",
        "             nn.Linear(2, output_dim),\n",
        "             nn.ReLU()\n",
        "         )\n",
        "\n",
        "    def forward(self, x):\n",
        "        \"\"\" Defines the computation performed at every call. \"\"\"\n",
        "        return self.network(x)"
      ]
    },
    {
      "cell_type": "code",
      "execution_count": 35,
      "id": "5OGid8SpMvZz",
      "metadata": {
        "id": "5OGid8SpMvZz"
      },
      "outputs": [],
      "source": [
        "## TODO : define model, optimiser, cross entropy loss,\n",
        "## put model to the device, and train mode\n",
        "## you can optionally apply regularisation between 0.0005 and 0.005\n",
        "lr=0.001\n",
        "mlp_model = TabularNetwork(input_dim,output_dim).to(device)\n",
        "optimizer_mlp = torch.optim.Adam(mlp_model.parameters(), lr=lr, weight_decay =0.0005)\n",
        "loss_mlp = nn.CrossEntropyLoss()"
      ]
    },
    {
      "cell_type": "code",
      "execution_count": 36,
      "id": "Z-WNxtczM5Iv",
      "metadata": {
        "colab": {
          "base_uri": "https://localhost:8080/"
        },
        "id": "Z-WNxtczM5Iv",
        "outputId": "dce33820-e808-442e-b124-576675a8101d"
      },
      "outputs": [
        {
          "name": "stderr",
          "output_type": "stream",
          "text": [
            "Training Epoch 1: 100%|██████████| 302/302 [00:01<00:00, 212.66batch/s]\n",
            "Validation Epoch 1: 100%|██████████| 76/76 [00:00<00:00, 211.12batch/s]\n",
            "Training Epoch 2: 100%|██████████| 302/302 [00:01<00:00, 224.61batch/s]\n",
            "Validation Epoch 2: 100%|██████████| 76/76 [00:00<00:00, 196.02batch/s]\n",
            "Training Epoch 3: 100%|██████████| 302/302 [00:01<00:00, 226.88batch/s]\n",
            "Validation Epoch 3: 100%|██████████| 76/76 [00:00<00:00, 204.70batch/s]\n",
            "Training Epoch 4: 100%|██████████| 302/302 [00:01<00:00, 208.19batch/s]\n",
            "Validation Epoch 4: 100%|██████████| 76/76 [00:00<00:00, 124.95batch/s]\n",
            "Training Epoch 5: 100%|██████████| 302/302 [00:02<00:00, 132.45batch/s]\n",
            "Validation Epoch 5: 100%|██████████| 76/76 [00:00<00:00, 117.77batch/s]\n",
            "Training Epoch 6: 100%|██████████| 302/302 [00:01<00:00, 216.65batch/s]\n",
            "Validation Epoch 6: 100%|██████████| 76/76 [00:00<00:00, 202.56batch/s]\n",
            "Training Epoch 7: 100%|██████████| 302/302 [00:01<00:00, 227.15batch/s]\n",
            "Validation Epoch 7: 100%|██████████| 76/76 [00:00<00:00, 208.79batch/s]\n",
            "Training Epoch 8: 100%|██████████| 302/302 [00:01<00:00, 224.97batch/s]\n",
            "Validation Epoch 8: 100%|██████████| 76/76 [00:00<00:00, 214.60batch/s]\n",
            "Training Epoch 9: 100%|██████████| 302/302 [00:01<00:00, 225.75batch/s]\n",
            "Validation Epoch 9: 100%|██████████| 76/76 [00:00<00:00, 195.83batch/s]\n",
            "Training Epoch 10: 100%|██████████| 302/302 [00:01<00:00, 223.37batch/s]\n",
            "Validation Epoch 10: 100%|██████████| 76/76 [00:00<00:00, 222.19batch/s]\n",
            "Training Epoch 11: 100%|██████████| 302/302 [00:01<00:00, 226.13batch/s]\n",
            "Validation Epoch 11: 100%|██████████| 76/76 [00:00<00:00, 150.06batch/s]\n",
            "Training Epoch 12: 100%|██████████| 302/302 [00:02<00:00, 133.02batch/s]\n",
            "Validation Epoch 12: 100%|██████████| 76/76 [00:00<00:00, 115.66batch/s]\n",
            "Training Epoch 13: 100%|██████████| 302/302 [00:01<00:00, 189.52batch/s]\n",
            "Validation Epoch 13: 100%|██████████| 76/76 [00:00<00:00, 207.53batch/s]\n",
            "Training Epoch 14: 100%|██████████| 302/302 [00:01<00:00, 222.26batch/s]\n",
            "Validation Epoch 14: 100%|██████████| 76/76 [00:00<00:00, 206.84batch/s]\n",
            "Training Epoch 15: 100%|██████████| 302/302 [00:01<00:00, 230.61batch/s]\n",
            "Validation Epoch 15: 100%|██████████| 76/76 [00:00<00:00, 202.07batch/s]\n",
            "Training Epoch 16: 100%|██████████| 302/302 [00:01<00:00, 217.20batch/s]\n",
            "Validation Epoch 16: 100%|██████████| 76/76 [00:00<00:00, 202.45batch/s]\n",
            "Training Epoch 17: 100%|██████████| 302/302 [00:01<00:00, 220.91batch/s]\n",
            "Validation Epoch 17: 100%|██████████| 76/76 [00:00<00:00, 204.31batch/s]\n",
            "Training Epoch 18: 100%|██████████| 302/302 [00:01<00:00, 209.37batch/s]\n",
            "Validation Epoch 18: 100%|██████████| 76/76 [00:00<00:00, 176.36batch/s]\n",
            "Training Epoch 19: 100%|██████████| 302/302 [00:02<00:00, 135.47batch/s]\n",
            "Validation Epoch 19: 100%|██████████| 76/76 [00:00<00:00, 120.87batch/s]\n",
            "Training Epoch 20: 100%|██████████| 302/302 [00:01<00:00, 179.86batch/s]\n",
            "Validation Epoch 20: 100%|██████████| 76/76 [00:00<00:00, 205.06batch/s]\n",
            "Training Epoch 21: 100%|██████████| 302/302 [00:01<00:00, 224.42batch/s]\n",
            "Validation Epoch 21: 100%|██████████| 76/76 [00:00<00:00, 207.17batch/s]\n",
            "Training Epoch 22: 100%|██████████| 302/302 [00:01<00:00, 221.33batch/s]\n",
            "Validation Epoch 22: 100%|██████████| 76/76 [00:00<00:00, 205.59batch/s]\n",
            "Training Epoch 23: 100%|██████████| 302/302 [00:01<00:00, 214.35batch/s]\n",
            "Validation Epoch 23: 100%|██████████| 76/76 [00:00<00:00, 200.76batch/s]\n",
            "Training Epoch 24: 100%|██████████| 302/302 [00:01<00:00, 221.34batch/s]\n",
            "Validation Epoch 24: 100%|██████████| 76/76 [00:00<00:00, 215.27batch/s]\n",
            "Training Epoch 25: 100%|██████████| 302/302 [00:01<00:00, 220.42batch/s]\n",
            "Validation Epoch 25: 100%|██████████| 76/76 [00:00<00:00, 209.49batch/s]\n",
            "Training Epoch 26: 100%|██████████| 302/302 [00:02<00:00, 131.97batch/s]\n",
            "Validation Epoch 26: 100%|██████████| 76/76 [00:00<00:00, 121.40batch/s]\n",
            "Training Epoch 27: 100%|██████████| 302/302 [00:01<00:00, 165.71batch/s]\n",
            "Validation Epoch 27: 100%|██████████| 76/76 [00:00<00:00, 199.69batch/s]\n",
            "Training Epoch 28: 100%|██████████| 302/302 [00:01<00:00, 212.21batch/s]\n",
            "Validation Epoch 28: 100%|██████████| 76/76 [00:00<00:00, 195.81batch/s]\n",
            "Training Epoch 29: 100%|██████████| 302/302 [00:01<00:00, 227.22batch/s]\n",
            "Validation Epoch 29: 100%|██████████| 76/76 [00:00<00:00, 198.80batch/s]\n",
            "Training Epoch 30: 100%|██████████| 302/302 [00:01<00:00, 226.53batch/s]\n",
            "Validation Epoch 30: 100%|██████████| 76/76 [00:00<00:00, 223.84batch/s]\n",
            "Training Epoch 31: 100%|██████████| 302/302 [00:01<00:00, 225.37batch/s]\n",
            "Validation Epoch 31: 100%|██████████| 76/76 [00:00<00:00, 179.41batch/s]\n",
            "Training Epoch 32: 100%|██████████| 302/302 [00:01<00:00, 227.12batch/s]\n",
            "Validation Epoch 32: 100%|██████████| 76/76 [00:00<00:00, 217.43batch/s]\n",
            "Training Epoch 33: 100%|██████████| 302/302 [00:02<00:00, 143.18batch/s]\n",
            "Validation Epoch 33: 100%|██████████| 76/76 [00:00<00:00, 122.35batch/s]\n",
            "Training Epoch 34: 100%|██████████| 302/302 [00:01<00:00, 153.49batch/s]\n",
            "Validation Epoch 34: 100%|██████████| 76/76 [00:00<00:00, 202.54batch/s]\n",
            "Training Epoch 35: 100%|██████████| 302/302 [00:01<00:00, 220.81batch/s]\n",
            "Validation Epoch 35: 100%|██████████| 76/76 [00:00<00:00, 209.27batch/s]\n",
            "Training Epoch 36: 100%|██████████| 302/302 [00:01<00:00, 226.80batch/s]\n",
            "Validation Epoch 36: 100%|██████████| 76/76 [00:00<00:00, 207.86batch/s]\n",
            "Training Epoch 37: 100%|██████████| 302/302 [00:01<00:00, 228.74batch/s]\n",
            "Validation Epoch 37: 100%|██████████| 76/76 [00:00<00:00, 204.54batch/s]\n",
            "Training Epoch 38: 100%|██████████| 302/302 [00:01<00:00, 227.95batch/s]\n",
            "Validation Epoch 38: 100%|██████████| 76/76 [00:00<00:00, 214.25batch/s]\n",
            "Training Epoch 39: 100%|██████████| 302/302 [00:01<00:00, 222.37batch/s]\n",
            "Validation Epoch 39: 100%|██████████| 76/76 [00:00<00:00, 200.71batch/s]\n",
            "Training Epoch 40: 100%|██████████| 302/302 [00:01<00:00, 160.90batch/s]\n",
            "Validation Epoch 40: 100%|██████████| 76/76 [00:00<00:00, 119.45batch/s]\n",
            "Training Epoch 41: 100%|██████████| 302/302 [00:02<00:00, 134.83batch/s]\n",
            "Validation Epoch 41: 100%|██████████| 76/76 [00:00<00:00, 195.20batch/s]\n",
            "Training Epoch 42: 100%|██████████| 302/302 [00:01<00:00, 228.22batch/s]\n",
            "Validation Epoch 42: 100%|██████████| 76/76 [00:00<00:00, 216.11batch/s]\n",
            "Training Epoch 43: 100%|██████████| 302/302 [00:01<00:00, 222.47batch/s]\n",
            "Validation Epoch 43: 100%|██████████| 76/76 [00:00<00:00, 216.83batch/s]\n",
            "Training Epoch 44: 100%|██████████| 302/302 [00:01<00:00, 222.23batch/s]\n",
            "Validation Epoch 44: 100%|██████████| 76/76 [00:00<00:00, 197.52batch/s]\n",
            "Training Epoch 45: 100%|██████████| 302/302 [00:01<00:00, 227.88batch/s]\n",
            "Validation Epoch 45: 100%|██████████| 76/76 [00:00<00:00, 199.47batch/s]\n",
            "Training Epoch 46: 100%|██████████| 302/302 [00:01<00:00, 225.22batch/s]\n",
            "Validation Epoch 46: 100%|██████████| 76/76 [00:00<00:00, 220.83batch/s]\n",
            "Training Epoch 47: 100%|██████████| 302/302 [00:01<00:00, 170.51batch/s]\n",
            "Validation Epoch 47: 100%|██████████| 76/76 [00:00<00:00, 124.19batch/s]\n",
            "Training Epoch 48: 100%|██████████| 302/302 [00:02<00:00, 133.50batch/s]\n",
            "Validation Epoch 48: 100%|██████████| 76/76 [00:00<00:00, 179.28batch/s]\n",
            "Training Epoch 49: 100%|██████████| 302/302 [00:01<00:00, 217.55batch/s]\n",
            "Validation Epoch 49: 100%|██████████| 76/76 [00:00<00:00, 199.17batch/s]\n",
            "Training Epoch 50: 100%|██████████| 302/302 [00:01<00:00, 225.28batch/s]\n",
            "Validation Epoch 50: 100%|██████████| 76/76 [00:00<00:00, 206.62batch/s]\n"
          ]
        }
      ],
      "source": [
        "## TODO : Train model\n",
        "num_epochs = 50\n",
        "(train_losses_mlp,val_losses_mlp,train_accs_mlp, val_accs_mlp) = run_training(mlp_model, optimizer_mlp, loss_mlp, device, num_epochs, train_loader, test_loader)"
      ]
    },
    {
      "cell_type": "code",
      "execution_count": 37,
      "id": "I_xVns4qM5eO",
      "metadata": {
        "colab": {
          "base_uri": "https://localhost:8080/",
          "height": 472
        },
        "id": "I_xVns4qM5eO",
        "outputId": "9c531ef9-061d-43ec-bd2a-d9416f0653dd"
      },
      "outputs": [
        {
          "data": {
            "image/png": "[encoded data removed]",
            "text/plain": [
              "<Figure size 640x480 with 1 Axes>"
            ]
          },
          "metadata": {},
          "output_type": "display_data"
        }
      ],
      "source": [
        "# TODO plot losses\n",
        "plot('Epoch vs. Loss', 'Loss', train_losses_mlp, val_losses_mlp)"
      ]
    },
    {
      "cell_type": "code",
      "execution_count": 38,
      "id": "JRAEaYnYUpd_",
      "metadata": {
        "colab": {
          "base_uri": "https://localhost:8080/",
          "height": 472
        },
        "id": "JRAEaYnYUpd_",
        "outputId": "5bb419d5-edaa-4f5c-bf2f-991e17477209"
      },
      "outputs": [
        {
          "data": {
            "image/png": "[encoded data removed]",
            "text/plain": [
              "<Figure size 640x480 with 1 Axes>"
            ]
          },
          "metadata": {},
          "output_type": "display_data"
        }
      ],
      "source": [
        "# TODO plot accuracies\n",
        "plot('Epoch vs. Accuracy', 'Accuracy', train_accs_mlp, val_accs_mlp)"
      ]
    },
    {
      "attachments": {},
      "cell_type": "markdown",
      "id": "J8HbVqiUznBu",
      "metadata": {
        "id": "J8HbVqiUznBu"
      },
      "source": [
        "**TODO:** Did your network perform better or worse than the GradientBoostingClassifier on this dataset? Why?\n",
        "Our implementation shows that the Multilayer Perceptron (MLP) outperforms the GradientBoostingClassifier. Generally, MLP models tend to perform better than Gradient Boosting Classifiers when dealing with tabular data. This is because MLPs have the flexibility to capture non-linear relationships, handle both continuous and categorical features, effectively handle imbalanced datasets, and learn directly from the data without extensive feature engineering. MLPs excel in capturing intricate patterns and interactions within tabular data, making them a powerful approach for modeling such datasets. However, it's important to note that the performance of specific models relies on the dataset's characteristics, feature quality, and thorough evaluation and experimentation."
      ]
    },
    {
      "attachments": {},
      "cell_type": "markdown",
      "id": "cc0f5f87",
      "metadata": {
        "id": "cc0f5f87"
      },
      "source": [
        "## Bonus tasks (optional)\n",
        "* Try to use SGD instead of Adam as optimiser. What do you notice?\n",
        "Here are different opinions on this topic:\n",
        "  * https://codeahoy.com/questions/ds-interview/33/#:~:text=Adam%20tends%20to%20converge%20faster,converges%20to%20more%20optimal%20solutions.\n",
        "  * https://shaoanlu.wordpress.com/2017/05/29/sgd-all-which-one-is-the-best-optimizer-dogs-vs-cats-toy-experiment/\n",
        "  * https://datascience.stackexchange.com/questions/30344/why-not-always-use-the-adam-optimization-technique\n",
        "\n",
        "* Try to make your MLP twice deeper. What do you notice? Why?\n",
        "\n",
        "## Advanced topic to read about:\n",
        "**Tools which may be helpful for data exploration:**\n",
        "* df.describe() - returns some basic statistics for your dataset - https://pandas.pydata.org/docs/reference/api/pandas.DataFrame.describe.html\n",
        "* ydata-profiling (previous pandas-profiling) - generates interactive data exploration report: basic statistics, nans, correlations between different features - https://github.com/ydataai/ydata-profiling\n",
        "\n",
        "**Tree libraries**\n",
        "* XGBoost - XGBoost stands for “Extreme Gradient Boosting”, where the term “Gradient Boosting” originates from the paper Greedy Function Approximation: A Gradient Boosting Machine, by Friedman. https://xgboost.readthedocs.io/en/stable/tutorials/model.html\n",
        "* LightGBM - industrial library for XGBoost from Miscrosoft. LightGBM is a gradient boosting framework that uses tree based learning algorithms. It is designed to be distributed and efficient. https://lightgbm.readthedocs.io/en/v3.3.2/"
      ]
    },
    {
      "attachments": {},
      "cell_type": "markdown",
      "id": "fc6bdb0a",
      "metadata": {
        "id": "fc6bdb0a"
      },
      "source": []
    }
  ],
  "metadata": {
    "accelerator": "GPU",
    "colab": {
      "gpuType": "T4",
      "provenance": []
    },
    "kernelspec": {
      "display_name": "Python 3",
      "name": "python3"
    },
    "language_info": {
      "codemirror_mode": {
        "name": "ipython",
        "version": 3
      },
      "file_extension": ".py",
      "mimetype": "text/x-python",
      "name": "python",
      "nbconvert_exporter": "python",
      "pygments_lexer": "ipython3",
      "version": "3.11.3"
    },
    "vscode": {
      "interpreter": {
        "hash": "31f2aee4e71d21fbe5cf8b01ff0e069b9275f58929596ceb00d14d90e3e16cd6"
      }
    }
  },
  "nbformat": 4,
  "nbformat_minor": 5
}
